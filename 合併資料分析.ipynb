{
 "cells": [
  {
   "cell_type": "code",
   "execution_count": null,
   "metadata": {},
   "outputs": [],
   "source": [
    "df3['再購(360天)'].sum()"
   ]
  },
  {
   "cell_type": "code",
   "execution_count": null,
   "metadata": {},
   "outputs": [],
   "source": [
    "print('120天再購率: {}'.format(df3['再購(120天)'].sum()/df3['再購(120天)'].count()))\n",
    "print('360天再購率: {}'.format(df3['再購(360天)'].sum()/df3['再購(360天)'].count()))"
   ]
  },
  {
   "cell_type": "code",
   "execution_count": null,
   "metadata": {},
   "outputs": [],
   "source": [
    "print('2014年理賠數: {}'.format(df3[df3['claim_settle_dt'].dt.year == 2014]['Claim_RK'].count()))\n",
    "print('2015年理賠數: {}'.format(df3[df3['claim_settle_dt'].dt.year == 2015]['Claim_RK'].count()))\n",
    "print('2016年理賠數: {}'.format(df3[df3['claim_settle_dt'].dt.year == 2016]['Claim_RK'].count()))\n",
    "print('2017年理賠數: {}'.format(df3[df3['claim_settle_dt'].dt.year == 2017]['Claim_RK'].count()))"
   ]
  },
  {
   "cell_type": "code",
   "execution_count": null,
   "metadata": {},
   "outputs": [],
   "source": [
    "# 2016年理賠 120 days 佔 360 days比例\n",
    "df3[df3['claim_settle_dt'].dt.year == 2016]['再購(120天)'].sum() / df3[df3['claim_settle_dt'].dt.year == 2016]['再購(360天)'].sum()"
   ]
  },
  {
   "cell_type": "code",
   "execution_count": null,
   "metadata": {},
   "outputs": [],
   "source": [
    "# 2016年理賠 120 days 再購率\n",
    "df3[df3['claim_settle_dt'].dt.year == 2016]['再購(120天)'].sum() / df3[df3['claim_settle_dt'].dt.year == 2016]['再購(120天)'].count()"
   ]
  },
  {
   "cell_type": "code",
   "execution_count": null,
   "metadata": {},
   "outputs": [],
   "source": [
    "# 2016年理賠 360 days 再購率\n",
    "df3[df3['claim_settle_dt'].dt.year == 2016]['再購(360天)'].sum() / df3[df3['claim_settle_dt'].dt.year == 2016]['再購(360天)'].count()"
   ]
  },
  {
   "cell_type": "code",
   "execution_count": null,
   "metadata": {},
   "outputs": [],
   "source": [
    "# 2017年理賠 120 days 佔 360 days比例\n",
    "df3[df3['claim_settle_dt'].dt.year == 2017]['再購(120天)'].sum() / df3[df3['claim_settle_dt'].dt.year == 2017]['再購(360天)'].sum()"
   ]
  },
  {
   "cell_type": "code",
   "execution_count": null,
   "metadata": {},
   "outputs": [],
   "source": [
    "# 2017年理賠 120 days 再購率\n",
    "df3[df3['claim_settle_dt'].dt.year == 2017]['再購(120天)'].sum() / df3[df3['claim_settle_dt'].dt.year == 2017]['再購(120天)'].count()"
   ]
  },
  {
   "cell_type": "code",
   "execution_count": null,
   "metadata": {},
   "outputs": [],
   "source": [
    "# 2016年理賠 360 days 再購率\n",
    "df3[df3['claim_settle_dt'].dt.year == 2017]['再購(360天)'].sum() / df3[df3['claim_settle_dt'].dt.year == 2017]['再購(360天)'].count()"
   ]
  },
  {
   "cell_type": "code",
   "execution_count": null,
   "metadata": {},
   "outputs": [],
   "source": [
    "# 2016,2017年理賠 120 days 佔 360 days比例\n",
    "d120_sum = df3[(df3['claim_settle_dt'].dt.year == 2017) | (df3['claim_settle_dt'].dt.year == 2016)]['再購(120天)'].sum() \n",
    "d360_sum = df3[(df3['claim_settle_dt'].dt.year == 2017) | (df3['claim_settle_dt'].dt.year == 2016)]['再購(360天)'].sum()\n",
    "d120_sum/d360_sum"
   ]
  }
 ],
 "metadata": {
  "kernelspec": {
   "display_name": "Python 3",
   "language": "python",
   "name": "python3"
  },
  "language_info": {
   "codemirror_mode": {
    "name": "ipython",
    "version": 3
   },
   "file_extension": ".py",
   "mimetype": "text/x-python",
   "name": "python",
   "nbconvert_exporter": "python",
   "pygments_lexer": "ipython3",
   "version": "3.7.6"
  }
 },
 "nbformat": 4,
 "nbformat_minor": 4
}

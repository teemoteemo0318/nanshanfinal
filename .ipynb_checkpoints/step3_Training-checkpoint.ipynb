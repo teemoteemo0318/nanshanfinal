{
 "cells": [
  {
   "cell_type": "code",
   "execution_count": 6,
   "metadata": {},
   "outputs": [],
   "source": [
    "%matplotlib inline\n",
    "import pandas as pd\n",
    "from sklearn.model_selection import train_test_split\n"
   ]
  },
  {
   "cell_type": "code",
   "execution_count": 7,
   "metadata": {},
   "outputs": [],
   "source": [
    "df1 = pd.read_excel('training_data.xlsx',index_col=0)\n",
    "df2 = pd.read_excel('testing_data.xlsx',index_col=0)\n",
    "X_train = df1.iloc[:,:-1]\n",
    "y_train = df1.iloc[:,-1]\n",
    "X_test = df2.iloc[:,:-1]\n",
    "y_test = df2.iloc[:,-1]"
   ]
  },
  {
   "cell_type": "markdown",
   "metadata": {},
   "source": [
    "## **不調參的決策樹**"
   ]
  },
  {
   "cell_type": "code",
   "execution_count": 89,
   "metadata": {},
   "outputs": [
    {
     "data": {
      "text/plain": [
       "DecisionTreeClassifier(ccp_alpha=0.0, class_weight=None, criterion='entropy',\n",
       "                       max_depth=None, max_features=None, max_leaf_nodes=None,\n",
       "                       min_impurity_decrease=0.0, min_impurity_split=None,\n",
       "                       min_samples_leaf=1, min_samples_split=2,\n",
       "                       min_weight_fraction_leaf=0.0, presort='deprecated',\n",
       "                       random_state=None, splitter='best')"
      ]
     },
     "execution_count": 89,
     "metadata": {},
     "output_type": "execute_result"
    }
   ],
   "source": [
    "from sklearn.tree import DecisionTreeClassifier\n",
    "clf = DecisionTreeClassifier(criterion='entropy')\n",
    "clf.fit(X_train,y_train)"
   ]
  },
  {
   "cell_type": "code",
   "execution_count": 94,
   "metadata": {},
   "outputs": [
    {
     "name": "stdout",
     "output_type": "stream",
     "text": [
      "Training data score: 1.0\n",
      "Training data score: 0.9237969028056492\n"
     ]
    }
   ],
   "source": [
    "print('Training data score: {}'.format(clf.score(X_train, y_train)))\n",
    "print('Training data score: {}'.format(clf.score(X_test, y_test)))"
   ]
  },
  {
   "cell_type": "code",
   "execution_count": 8,
   "metadata": {},
   "outputs": [
    {
     "name": "stdout",
     "output_type": "stream",
     "text": [
      "Training data score: 0.8948569808773232\n",
      "Training data score: 0.894566657831964\n"
     ]
    }
   ],
   "source": [
    "## 畫畫用\n",
    "clf2 = DecisionTreeClassifier(criterion='entropy',max_depth=5)\n",
    "clf2.fit(X_train,y_train)\n",
    "print('Training data score: {}'.format(clf2.score(X_train, y_train)))\n",
    "print('Training data score: {}'.format(clf2.score(X_test, y_test)))"
   ]
  },
  {
   "cell_type": "markdown",
   "metadata": {},
   "source": [
    "## **建立Pipeline模型並自動調參數**"
   ]
  },
  {
   "cell_type": "code",
   "execution_count": 1,
   "metadata": {},
   "outputs": [],
   "source": [
    "from sklearn.tree import DecisionTreeClassifier\n",
    "from sklearn.pipeline import Pipeline\n",
    "from sklearn.model_selection import GridSearchCV\n",
    "pipeline = Pipeline([('clf',DecisionTreeClassifier(criterion='entropy'))])"
   ]
  },
  {
   "cell_type": "markdown",
   "metadata": {},
   "source": [
    "## **決策樹**\n",
    "* 不要求對資料標準化\n",
    "* sklearn中並不能容忍特徵職的缺失\n",
    "* 可以學習忽略與任務無關的特徵，決定那些特徵是有用的\n",
    "* 支援多輸出任務\n",
    "* 小型決策樹可以使用sklearn tree模組中的export_graphviz，輕鬆解釋和視覺化"
   ]
  },
  {
   "cell_type": "code",
   "execution_count": 2,
   "metadata": {},
   "outputs": [],
   "source": [
    "## 需要調參數的部位\n",
    "parameters = {'clf__max_depth':(20,100,500),\n",
    "              'clf__min_samples_split':(20,100,500),\n",
    "              'clf__min_samples_leaf':(2,3,4)}"
   ]
  },
  {
   "cell_type": "code",
   "execution_count": 3,
   "metadata": {},
   "outputs": [],
   "source": [
    "grid_search = GridSearchCV(pipeline, parameters, n_jobs=-1, verbose=1, scoring='f1')"
   ]
  },
  {
   "cell_type": "code",
   "execution_count": 4,
   "metadata": {},
   "outputs": [
    {
     "ename": "NameError",
     "evalue": "name 'X_train' is not defined",
     "output_type": "error",
     "traceback": [
      "\u001b[1;31m---------------------------------------------------------------------------\u001b[0m",
      "\u001b[1;31mNameError\u001b[0m                                 Traceback (most recent call last)",
      "\u001b[1;32m<ipython-input-4-231b374c92ba>\u001b[0m in \u001b[0;36m<module>\u001b[1;34m\u001b[0m\n\u001b[1;32m----> 1\u001b[1;33m \u001b[0mgrid_search\u001b[0m\u001b[1;33m.\u001b[0m\u001b[0mfit\u001b[0m\u001b[1;33m(\u001b[0m\u001b[0mX_train\u001b[0m\u001b[1;33m,\u001b[0m \u001b[0my_train\u001b[0m\u001b[1;33m)\u001b[0m\u001b[1;33m\u001b[0m\u001b[1;33m\u001b[0m\u001b[0m\n\u001b[0m",
      "\u001b[1;31mNameError\u001b[0m: name 'X_train' is not defined"
     ]
    }
   ],
   "source": [
    "grid_search.fit(X_train, y_train)"
   ]
  },
  {
   "cell_type": "code",
   "execution_count": 104,
   "metadata": {},
   "outputs": [
    {
     "name": "stdout",
     "output_type": "stream",
     "text": [
      "clf__max_depth:100\n",
      "clf__min_samples_leaf:20\n",
      "clf__min_samples_split:20\n"
     ]
    }
   ],
   "source": [
    "## 回傳最好的參數\n",
    "best_parameters = grid_search.best_estimator_.get_params()\n",
    "for param_name in sorted(parameters.keys()):\n",
    "    print('{}:{}'.format(param_name,best_parameters[param_name]))"
   ]
  },
  {
   "cell_type": "code",
   "execution_count": 105,
   "metadata": {},
   "outputs": [
    {
     "data": {
      "text/plain": [
       "0.9175343327439514"
      ]
     },
     "execution_count": 105,
     "metadata": {},
     "output_type": "execute_result"
    }
   ],
   "source": [
    "## 最好的score\n",
    "grid_search.best_score_"
   ]
  },
  {
   "cell_type": "markdown",
   "metadata": {},
   "source": [
    "## **Testing**"
   ]
  },
  {
   "cell_type": "code",
   "execution_count": 106,
   "metadata": {},
   "outputs": [
    {
     "data": {
      "text/plain": [
       "0.920046191481926"
      ]
     },
     "execution_count": 106,
     "metadata": {},
     "output_type": "execute_result"
    }
   ],
   "source": [
    "grid_search.score(X_test, y_test)"
   ]
  },
  {
   "cell_type": "markdown",
   "metadata": {},
   "source": [
    "## **混淆矩陣解讀**\n",
    "https://www.libinx.com/2018/understanding-sklearn-classification-report/"
   ]
  },
  {
   "cell_type": "code",
   "execution_count": 96,
   "metadata": {},
   "outputs": [
    {
     "name": "stdout",
     "output_type": "stream",
     "text": [
      "              precision    recall  f1-score   support\n",
      "\n",
      "           0       0.92      0.92      0.92     66056\n",
      "           1       0.92      0.92      0.92     65999\n",
      "\n",
      "    accuracy                           0.92    132055\n",
      "   macro avg       0.92      0.92      0.92    132055\n",
      "weighted avg       0.92      0.92      0.92    132055\n",
      "\n"
     ]
    }
   ],
   "source": [
    "from sklearn.metrics import classification_report\n",
    "predictions = grid_search.predict(X_test)\n",
    "print(classification_report(y_test, predictions))"
   ]
  },
  {
   "cell_type": "code",
   "execution_count": 107,
   "metadata": {},
   "outputs": [
    {
     "name": "stdout",
     "output_type": "stream",
     "text": [
      "Training data score: 0.9362802709885092\n",
      "Training data score: 0.920046191481926\n"
     ]
    }
   ],
   "source": [
    "print('Training data score: {}'.format(grid_search.score(X_train, y_train)))\n",
    "print('Training data score: {}'.format(grid_search.score(X_test, y_test)))"
   ]
  },
  {
   "cell_type": "markdown",
   "metadata": {},
   "source": [
    "## **不同參數的詳細結果**"
   ]
  },
  {
   "cell_type": "code",
   "execution_count": 112,
   "metadata": {},
   "outputs": [
    {
     "data": {
      "text/html": [
       "<div>\n",
       "<style scoped>\n",
       "    .dataframe tbody tr th:only-of-type {\n",
       "        vertical-align: middle;\n",
       "    }\n",
       "\n",
       "    .dataframe tbody tr th {\n",
       "        vertical-align: top;\n",
       "    }\n",
       "\n",
       "    .dataframe thead th {\n",
       "        text-align: right;\n",
       "    }\n",
       "</style>\n",
       "<table border=\"1\" class=\"dataframe\">\n",
       "  <thead>\n",
       "    <tr style=\"text-align: right;\">\n",
       "      <th></th>\n",
       "      <th>mean_fit_time</th>\n",
       "      <th>std_fit_time</th>\n",
       "      <th>mean_score_time</th>\n",
       "      <th>std_score_time</th>\n",
       "      <th>param_clf__max_depth</th>\n",
       "      <th>param_clf__min_samples_leaf</th>\n",
       "      <th>param_clf__min_samples_split</th>\n",
       "      <th>params</th>\n",
       "      <th>split0_test_score</th>\n",
       "      <th>split1_test_score</th>\n",
       "      <th>split2_test_score</th>\n",
       "      <th>split3_test_score</th>\n",
       "      <th>split4_test_score</th>\n",
       "      <th>mean_test_score</th>\n",
       "      <th>std_test_score</th>\n",
       "      <th>rank_test_score</th>\n",
       "    </tr>\n",
       "  </thead>\n",
       "  <tbody>\n",
       "    <tr>\n",
       "      <th>22</th>\n",
       "      <td>5.563213</td>\n",
       "      <td>0.217165</td>\n",
       "      <td>0.071406</td>\n",
       "      <td>0.008236</td>\n",
       "      <td>500</td>\n",
       "      <td>100</td>\n",
       "      <td>100</td>\n",
       "      <td>{'clf__max_depth': 500, 'clf__min_samples_leaf...</td>\n",
       "      <td>0.908102</td>\n",
       "      <td>0.907831</td>\n",
       "      <td>0.907556</td>\n",
       "      <td>0.910576</td>\n",
       "      <td>0.908653</td>\n",
       "      <td>0.908544</td>\n",
       "      <td>0.001079</td>\n",
       "      <td>9</td>\n",
       "    </tr>\n",
       "    <tr>\n",
       "      <th>23</th>\n",
       "      <td>5.334195</td>\n",
       "      <td>0.302861</td>\n",
       "      <td>0.067406</td>\n",
       "      <td>0.005161</td>\n",
       "      <td>500</td>\n",
       "      <td>100</td>\n",
       "      <td>500</td>\n",
       "      <td>{'clf__max_depth': 500, 'clf__min_samples_leaf...</td>\n",
       "      <td>0.906543</td>\n",
       "      <td>0.905632</td>\n",
       "      <td>0.905499</td>\n",
       "      <td>0.909548</td>\n",
       "      <td>0.905454</td>\n",
       "      <td>0.906535</td>\n",
       "      <td>0.001558</td>\n",
       "      <td>17</td>\n",
       "    </tr>\n",
       "    <tr>\n",
       "      <th>24</th>\n",
       "      <td>4.406127</td>\n",
       "      <td>0.152840</td>\n",
       "      <td>0.066806</td>\n",
       "      <td>0.006432</td>\n",
       "      <td>500</td>\n",
       "      <td>500</td>\n",
       "      <td>20</td>\n",
       "      <td>{'clf__max_depth': 500, 'clf__min_samples_leaf...</td>\n",
       "      <td>0.896825</td>\n",
       "      <td>0.896561</td>\n",
       "      <td>0.897292</td>\n",
       "      <td>0.898454</td>\n",
       "      <td>0.896505</td>\n",
       "      <td>0.897127</td>\n",
       "      <td>0.000719</td>\n",
       "      <td>19</td>\n",
       "    </tr>\n",
       "    <tr>\n",
       "      <th>25</th>\n",
       "      <td>4.509134</td>\n",
       "      <td>0.229263</td>\n",
       "      <td>0.063606</td>\n",
       "      <td>0.006408</td>\n",
       "      <td>500</td>\n",
       "      <td>500</td>\n",
       "      <td>100</td>\n",
       "      <td>{'clf__max_depth': 500, 'clf__min_samples_leaf...</td>\n",
       "      <td>0.896825</td>\n",
       "      <td>0.896561</td>\n",
       "      <td>0.897292</td>\n",
       "      <td>0.898454</td>\n",
       "      <td>0.896505</td>\n",
       "      <td>0.897127</td>\n",
       "      <td>0.000719</td>\n",
       "      <td>19</td>\n",
       "    </tr>\n",
       "    <tr>\n",
       "      <th>26</th>\n",
       "      <td>4.102302</td>\n",
       "      <td>0.229378</td>\n",
       "      <td>0.048808</td>\n",
       "      <td>0.007726</td>\n",
       "      <td>500</td>\n",
       "      <td>500</td>\n",
       "      <td>500</td>\n",
       "      <td>{'clf__max_depth': 500, 'clf__min_samples_leaf...</td>\n",
       "      <td>0.896825</td>\n",
       "      <td>0.896561</td>\n",
       "      <td>0.897292</td>\n",
       "      <td>0.898454</td>\n",
       "      <td>0.896505</td>\n",
       "      <td>0.897127</td>\n",
       "      <td>0.000719</td>\n",
       "      <td>19</td>\n",
       "    </tr>\n",
       "  </tbody>\n",
       "</table>\n",
       "</div>"
      ],
      "text/plain": [
       "    mean_fit_time  std_fit_time  mean_score_time  std_score_time  \\\n",
       "22       5.563213      0.217165         0.071406        0.008236   \n",
       "23       5.334195      0.302861         0.067406        0.005161   \n",
       "24       4.406127      0.152840         0.066806        0.006432   \n",
       "25       4.509134      0.229263         0.063606        0.006408   \n",
       "26       4.102302      0.229378         0.048808        0.007726   \n",
       "\n",
       "   param_clf__max_depth param_clf__min_samples_leaf  \\\n",
       "22                  500                         100   \n",
       "23                  500                         100   \n",
       "24                  500                         500   \n",
       "25                  500                         500   \n",
       "26                  500                         500   \n",
       "\n",
       "   param_clf__min_samples_split  \\\n",
       "22                          100   \n",
       "23                          500   \n",
       "24                           20   \n",
       "25                          100   \n",
       "26                          500   \n",
       "\n",
       "                                               params  split0_test_score  \\\n",
       "22  {'clf__max_depth': 500, 'clf__min_samples_leaf...           0.908102   \n",
       "23  {'clf__max_depth': 500, 'clf__min_samples_leaf...           0.906543   \n",
       "24  {'clf__max_depth': 500, 'clf__min_samples_leaf...           0.896825   \n",
       "25  {'clf__max_depth': 500, 'clf__min_samples_leaf...           0.896825   \n",
       "26  {'clf__max_depth': 500, 'clf__min_samples_leaf...           0.896825   \n",
       "\n",
       "    split1_test_score  split2_test_score  split3_test_score  \\\n",
       "22           0.907831           0.907556           0.910576   \n",
       "23           0.905632           0.905499           0.909548   \n",
       "24           0.896561           0.897292           0.898454   \n",
       "25           0.896561           0.897292           0.898454   \n",
       "26           0.896561           0.897292           0.898454   \n",
       "\n",
       "    split4_test_score  mean_test_score  std_test_score  rank_test_score  \n",
       "22           0.908653         0.908544        0.001079                9  \n",
       "23           0.905454         0.906535        0.001558               17  \n",
       "24           0.896505         0.897127        0.000719               19  \n",
       "25           0.896505         0.897127        0.000719               19  \n",
       "26           0.896505         0.897127        0.000719               19  "
      ]
     },
     "execution_count": 112,
     "metadata": {},
     "output_type": "execute_result"
    }
   ],
   "source": [
    "pd.DataFrame(grid_search.cv_results_).tail()"
   ]
  },
  {
   "cell_type": "markdown",
   "metadata": {},
   "source": [
    "## **視覺化**"
   ]
  },
  {
   "cell_type": "code",
   "execution_count": 17,
   "metadata": {},
   "outputs": [],
   "source": [
    "from sklearn import tree\n",
    "tree.export_graphviz(clf2,out_file=\"tree.dot\",feature_names=X_train.columns,class_names=['neg','pos'])"
   ]
  },
  {
   "cell_type": "code",
   "execution_count": 18,
   "metadata": {},
   "outputs": [],
   "source": [
    "import pydot\n",
    "(graph, ) = pydot.graph_from_dot_file('tree.dot')"
   ]
  },
  {
   "cell_type": "code",
   "execution_count": 19,
   "metadata": {},
   "outputs": [],
   "source": [
    "graph.write_png('tree.png')"
   ]
  },
  {
   "cell_type": "code",
   "execution_count": null,
   "metadata": {},
   "outputs": [],
   "source": [
    "# export_graphviz(clf, out_file=\"adspy_temp.dot\", feature_names=feature_names, class_names=class_names, filled = True, impurity = False)\n",
    "from sklearn.tree import export_graphviz\n",
    "import graphviz\n",
    "with open(\"tree.dot\") as f:\n",
    "    dot_graph = f.read()\n",
    "graphviz.Source(dot_graph)"
   ]
  },
  {
   "cell_type": "code",
   "execution_count": null,
   "metadata": {},
   "outputs": [],
   "source": [
    "# Alternate method using pydotplus, if installed.\n",
    "import pydotplus\n",
    "import os\n",
    "os.environ[\"PATH\"] += os.pathsep + 'C:/Program Files (x86)/Graphviz2.38/bin/'\n",
    "graph = pydotplus.graphviz.graph_from_dot_data(dot_graph)\n",
    "graph.create_png()"
   ]
  },
  {
   "cell_type": "markdown",
   "metadata": {},
   "source": [
    "# **問題**"
   ]
  },
  {
   "cell_type": "markdown",
   "metadata": {},
   "source": [
    "Q1:怎麼決定哪個feature好? future importance"
   ]
  },
  {
   "cell_type": "code",
   "execution_count": null,
   "metadata": {},
   "outputs": [],
   "source": [
    "def plot_decision_tree(clf, feature_names, class_names):\n",
    "    # This function requires the pydotplus module and assumes it's been installed.\n",
    "    # In some cases (typically under Windows) even after running conda install, there is a problem where the\n",
    "    # pydotplus module is not found when running from within the notebook environment.  The following code\n",
    "    # may help to guarantee the module is installed in the current notebook environment directory.\n",
    "    #\n",
    "    # import sys; sys.executable\n",
    "    # !{sys.executable} -m pip install pydotplus\n",
    "\n",
    "    export_graphviz(clf, out_file=\"adspy_temp.dot\", feature_names=feature_names, class_names=class_names, filled = True, impurity = False)\n",
    "    with open(\"adspy_temp.dot\") as f:\n",
    "        dot_graph = f.read()\n",
    "    # Alternate method using pydotplus, if installed.\n",
    "    # graph = pydotplus.graphviz.graph_from_dot_data(dot_graph)\n",
    "    # return graph.create_png()\n",
    "    return graphviz.Source(dot_graph)"
   ]
  }
 ],
 "metadata": {
  "kernelspec": {
   "display_name": "Python 3",
   "language": "python",
   "name": "python3"
  },
  "language_info": {
   "codemirror_mode": {
    "name": "ipython",
    "version": 3
   },
   "file_extension": ".py",
   "mimetype": "text/x-python",
   "name": "python",
   "nbconvert_exporter": "python",
   "pygments_lexer": "ipython3",
   "version": "3.7.6"
  }
 },
 "nbformat": 4,
 "nbformat_minor": 4
}

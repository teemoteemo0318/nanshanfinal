{
 "cells": [
  {
   "cell_type": "code",
   "execution_count": 1,
   "metadata": {},
   "outputs": [
    {
     "name": "stderr",
     "output_type": "stream",
     "text": [
      "Using TensorFlow backend.\n"
     ]
    }
   ],
   "source": [
    "import pandas as pd\n",
    "import numpy as np\n",
    "import calendar\n",
    "import seaborn as sns\n",
    "from category_encoders import TargetEncoder\n",
    "from imblearn.over_sampling import SMOTENC\n",
    "from collections import Counter\n",
    "from sklearn.model_selection import train_test_split\n",
    "from sklearn.preprocessing import MinMaxScaler\n",
    "# pip install git+https://github.com/scikit-learn-contrib/category_encoders.git#egg=httpie\n",
    "# pip install imblearn"
   ]
  },
  {
   "cell_type": "markdown",
   "metadata": {},
   "source": [
    "## **刪除沒有被保人資料的列**"
   ]
  },
  {
   "cell_type": "code",
   "execution_count": 4,
   "metadata": {},
   "outputs": [],
   "source": [
    "df = pd.read_excel('理賠再購屬性合併1_2.xlsx',index_col=[0,1])"
   ]
  },
  {
   "cell_type": "code",
   "execution_count": 12,
   "metadata": {},
   "outputs": [],
   "source": [
    "df = df.dropna(subset=['CUST_RK'])"
   ]
  },
  {
   "cell_type": "code",
   "execution_count": 13,
   "metadata": {},
   "outputs": [],
   "source": [
    "df.to_excel('理賠再購屬性合併1-2_before_encoding.xlsx')"
   ]
  },
  {
   "cell_type": "markdown",
   "metadata": {},
   "source": [
    "## **匯入資料**"
   ]
  },
  {
   "cell_type": "code",
   "execution_count": 2,
   "metadata": {},
   "outputs": [],
   "source": [
    "df = pd.read_excel('理賠再購屬性合併1-2_before_encoding.xlsx',index_col=[0,1])"
   ]
  },
  {
   "cell_type": "markdown",
   "metadata": {},
   "source": [
    "## **特徵工程**"
   ]
  },
  {
   "cell_type": "code",
   "execution_count": 4,
   "metadata": {},
   "outputs": [],
   "source": [
    "df = df[['再購(120天)',\n",
    "       '再購(180天)', '再購(360天)','INJURED_RK', 'Claim_RK', 'BundleSubtype2', 'illness_code',\n",
    "       'illness_desc', 'DiagnosisCode_DESC', 'claim_settle_dt',\n",
    "       'REIMBURSED_YR_TW', 'POLICY_HOLDER_RK', 'MATURITY_BENEFICIARY_RK',\n",
    "       'DEATH_BENEFICIARY_RK', '結案後120天', '結案後180天', '結案後360天', 'CUST_RK', 'ternure_m', 'recency_m', 'SIN',\n",
    "       'SIN_his', 'REG', 'REG_his', 'ILP', 'ILP_his', 'AHa', 'AHa_his', 'AHb',\n",
    "       'AHb_his', 'AHc', 'AHc_his', 'AHd', 'AHd_his', 'VIP_CLASS', 'VIP',\n",
    "       'WEALTH_LEVEL', 'CLIENT_MARITAL', 'CLIENT_INCOME', 'DIGI_FLG',\n",
    "       'TOPCARD', 'GENDER', 'stick_level2', 'cust_group2', 'TOTAL_AUM',\n",
    "       'INSURED_DOB']]"
   ]
  },
  {
   "cell_type": "code",
   "execution_count": 6,
   "metadata": {},
   "outputs": [],
   "source": [
    "X = df.iloc[:,3:]\n",
    "y = df.iloc[:,0]"
   ]
  },
  {
   "cell_type": "code",
   "execution_count": 8,
   "metadata": {},
   "outputs": [],
   "source": [
    "X = X.drop(columns=['INJURED_RK', 'Claim_RK','illness_code','claim_settle_dt','POLICY_HOLDER_RK','MATURITY_BENEFICIARY_RK',\n",
    "       'DEATH_BENEFICIARY_RK', '結案後120天', '結案後180天', '結案後360天','CUST_RK','CLIENT_MARITAL','CLIENT_INCOME','TOTAL_AUM','INSURED_DOB'])"
   ]
  },
  {
   "cell_type": "code",
   "execution_count": 9,
   "metadata": {},
   "outputs": [
    {
     "data": {
      "text/html": [
       "<div>\n",
       "<style scoped>\n",
       "    .dataframe tbody tr th:only-of-type {\n",
       "        vertical-align: middle;\n",
       "    }\n",
       "\n",
       "    .dataframe tbody tr th {\n",
       "        vertical-align: top;\n",
       "    }\n",
       "\n",
       "    .dataframe thead th {\n",
       "        text-align: right;\n",
       "    }\n",
       "</style>\n",
       "<table border=\"1\" class=\"dataframe\">\n",
       "  <thead>\n",
       "    <tr style=\"text-align: right;\">\n",
       "      <th></th>\n",
       "      <th></th>\n",
       "      <th>BundleSubtype2</th>\n",
       "      <th>illness_desc</th>\n",
       "      <th>DiagnosisCode_DESC</th>\n",
       "      <th>REIMBURSED_YR_TW</th>\n",
       "      <th>ternure_m</th>\n",
       "      <th>recency_m</th>\n",
       "      <th>SIN</th>\n",
       "      <th>SIN_his</th>\n",
       "      <th>REG</th>\n",
       "      <th>REG_his</th>\n",
       "      <th>...</th>\n",
       "      <th>AHd</th>\n",
       "      <th>AHd_his</th>\n",
       "      <th>VIP_CLASS</th>\n",
       "      <th>VIP</th>\n",
       "      <th>WEALTH_LEVEL</th>\n",
       "      <th>DIGI_FLG</th>\n",
       "      <th>TOPCARD</th>\n",
       "      <th>GENDER</th>\n",
       "      <th>stick_level2</th>\n",
       "      <th>cust_group2</th>\n",
       "    </tr>\n",
       "    <tr>\n",
       "      <th>INSURED_RK</th>\n",
       "      <th>Policy_RK</th>\n",
       "      <th></th>\n",
       "      <th></th>\n",
       "      <th></th>\n",
       "      <th></th>\n",
       "      <th></th>\n",
       "      <th></th>\n",
       "      <th></th>\n",
       "      <th></th>\n",
       "      <th></th>\n",
       "      <th></th>\n",
       "      <th></th>\n",
       "      <th></th>\n",
       "      <th></th>\n",
       "      <th></th>\n",
       "      <th></th>\n",
       "      <th></th>\n",
       "      <th></th>\n",
       "      <th></th>\n",
       "      <th></th>\n",
       "      <th></th>\n",
       "      <th></th>\n",
       "    </tr>\n",
       "  </thead>\n",
       "  <tbody>\n",
       "    <tr>\n",
       "      <th>251796</th>\n",
       "      <th>74433</th>\n",
       "      <td>6.N意外醫療</td>\n",
       "      <td>摩拖車騎士與汽車，小貨車或箱型車碰撞受傷</td>\n",
       "      <td>20.疾病和死亡的外因</td>\n",
       "      <td>4389.00</td>\n",
       "      <td>321</td>\n",
       "      <td>201</td>\n",
       "      <td>0</td>\n",
       "      <td>0</td>\n",
       "      <td>1</td>\n",
       "      <td>1</td>\n",
       "      <td>...</td>\n",
       "      <td>0</td>\n",
       "      <td>0</td>\n",
       "      <td>NaN</td>\n",
       "      <td>0</td>\n",
       "      <td>W6</td>\n",
       "      <td>1</td>\n",
       "      <td>0</td>\n",
       "      <td>1</td>\n",
       "      <td>S09</td>\n",
       "      <td>G4</td>\n",
       "    </tr>\n",
       "    <tr>\n",
       "      <th>251813</th>\n",
       "      <th>78696</th>\n",
       "      <td>6.N意外醫療</td>\n",
       "      <td>摩拖車騎士與汽車，小貨車或箱型車碰撞受傷</td>\n",
       "      <td>20.疾病和死亡的外因</td>\n",
       "      <td>31133.55</td>\n",
       "      <td>263</td>\n",
       "      <td>240</td>\n",
       "      <td>0</td>\n",
       "      <td>0</td>\n",
       "      <td>0</td>\n",
       "      <td>0</td>\n",
       "      <td>...</td>\n",
       "      <td>0</td>\n",
       "      <td>0</td>\n",
       "      <td>NaN</td>\n",
       "      <td>0</td>\n",
       "      <td>W6</td>\n",
       "      <td>0</td>\n",
       "      <td>0</td>\n",
       "      <td>1</td>\n",
       "      <td>S09</td>\n",
       "      <td>G4</td>\n",
       "    </tr>\n",
       "    <tr>\n",
       "      <th>251876</th>\n",
       "      <th>57631</th>\n",
       "      <td>6.N意外醫療</td>\n",
       "      <td>涉及其他特定運動和競技之活動</td>\n",
       "      <td>20.疾病和死亡的外因</td>\n",
       "      <td>1470.00</td>\n",
       "      <td>285</td>\n",
       "      <td>13</td>\n",
       "      <td>0</td>\n",
       "      <td>0</td>\n",
       "      <td>1</td>\n",
       "      <td>1</td>\n",
       "      <td>...</td>\n",
       "      <td>0</td>\n",
       "      <td>0</td>\n",
       "      <td>NaN</td>\n",
       "      <td>0</td>\n",
       "      <td>W5</td>\n",
       "      <td>0</td>\n",
       "      <td>0</td>\n",
       "      <td>1</td>\n",
       "      <td>S03</td>\n",
       "      <td>G2</td>\n",
       "    </tr>\n",
       "    <tr>\n",
       "      <th>251904</th>\n",
       "      <th>105696</th>\n",
       "      <td>5.N疾病醫療</td>\n",
       "      <td>其他及未明示部位之原位癌</td>\n",
       "      <td>02.腫瘤</td>\n",
       "      <td>17002.65</td>\n",
       "      <td>317</td>\n",
       "      <td>282</td>\n",
       "      <td>0</td>\n",
       "      <td>0</td>\n",
       "      <td>1</td>\n",
       "      <td>1</td>\n",
       "      <td>...</td>\n",
       "      <td>0</td>\n",
       "      <td>0</td>\n",
       "      <td>NaN</td>\n",
       "      <td>0</td>\n",
       "      <td>W6</td>\n",
       "      <td>0</td>\n",
       "      <td>0</td>\n",
       "      <td>0</td>\n",
       "      <td>S10</td>\n",
       "      <td>G4</td>\n",
       "    </tr>\n",
       "    <tr>\n",
       "      <th>251954</th>\n",
       "      <th>74765</th>\n",
       "      <td>4.C重大疾病</td>\n",
       "      <td>自體的冠狀動脈粥樣硬化心臟病</td>\n",
       "      <td>09.循環系統疾病</td>\n",
       "      <td>16825.20</td>\n",
       "      <td>297</td>\n",
       "      <td>68</td>\n",
       "      <td>0</td>\n",
       "      <td>0</td>\n",
       "      <td>1</td>\n",
       "      <td>1</td>\n",
       "      <td>...</td>\n",
       "      <td>0</td>\n",
       "      <td>0</td>\n",
       "      <td>NaN</td>\n",
       "      <td>0</td>\n",
       "      <td>W6</td>\n",
       "      <td>0</td>\n",
       "      <td>0</td>\n",
       "      <td>1</td>\n",
       "      <td>S07</td>\n",
       "      <td>G4</td>\n",
       "    </tr>\n",
       "  </tbody>\n",
       "</table>\n",
       "<p>5 rows × 28 columns</p>\n",
       "</div>"
      ],
      "text/plain": [
       "                     BundleSubtype2          illness_desc DiagnosisCode_DESC  \\\n",
       "INSURED_RK Policy_RK                                                           \n",
       "251796     74433            6.N意外醫療  摩拖車騎士與汽車，小貨車或箱型車碰撞受傷        20.疾病和死亡的外因   \n",
       "251813     78696            6.N意外醫療  摩拖車騎士與汽車，小貨車或箱型車碰撞受傷        20.疾病和死亡的外因   \n",
       "251876     57631            6.N意外醫療        涉及其他特定運動和競技之活動        20.疾病和死亡的外因   \n",
       "251904     105696           5.N疾病醫療          其他及未明示部位之原位癌              02.腫瘤   \n",
       "251954     74765            4.C重大疾病        自體的冠狀動脈粥樣硬化心臟病          09.循環系統疾病   \n",
       "\n",
       "                      REIMBURSED_YR_TW  ternure_m  recency_m  SIN  SIN_his  \\\n",
       "INSURED_RK Policy_RK                                                         \n",
       "251796     74433               4389.00        321        201    0        0   \n",
       "251813     78696              31133.55        263        240    0        0   \n",
       "251876     57631               1470.00        285         13    0        0   \n",
       "251904     105696             17002.65        317        282    0        0   \n",
       "251954     74765              16825.20        297         68    0        0   \n",
       "\n",
       "                      REG  REG_his  ...  AHd  AHd_his  VIP_CLASS  VIP  \\\n",
       "INSURED_RK Policy_RK                ...                                 \n",
       "251796     74433        1        1  ...    0        0        NaN    0   \n",
       "251813     78696        0        0  ...    0        0        NaN    0   \n",
       "251876     57631        1        1  ...    0        0        NaN    0   \n",
       "251904     105696       1        1  ...    0        0        NaN    0   \n",
       "251954     74765        1        1  ...    0        0        NaN    0   \n",
       "\n",
       "                      WEALTH_LEVEL  DIGI_FLG  TOPCARD  GENDER  stick_level2  \\\n",
       "INSURED_RK Policy_RK                                                          \n",
       "251796     74433                W6         1        0       1           S09   \n",
       "251813     78696                W6         0        0       1           S09   \n",
       "251876     57631                W5         0        0       1           S03   \n",
       "251904     105696               W6         0        0       0           S10   \n",
       "251954     74765                W6         0        0       1           S07   \n",
       "\n",
       "                      cust_group2  \n",
       "INSURED_RK Policy_RK               \n",
       "251796     74433               G4  \n",
       "251813     78696               G4  \n",
       "251876     57631               G2  \n",
       "251904     105696              G4  \n",
       "251954     74765               G4  \n",
       "\n",
       "[5 rows x 28 columns]"
      ]
     },
     "execution_count": 9,
     "metadata": {},
     "output_type": "execute_result"
    }
   ],
   "source": [
    "X.tail()"
   ]
  },
  {
   "cell_type": "code",
   "execution_count": 10,
   "metadata": {},
   "outputs": [
    {
     "data": {
      "text/plain": [
       "Index(['BundleSubtype2', 'illness_desc', 'DiagnosisCode_DESC',\n",
       "       'REIMBURSED_YR_TW', 'ternure_m', 'recency_m', 'SIN', 'SIN_his', 'REG',\n",
       "       'REG_his', 'ILP', 'ILP_his', 'AHa', 'AHa_his', 'AHb', 'AHb_his', 'AHc',\n",
       "       'AHc_his', 'AHd', 'AHd_his', 'VIP_CLASS', 'VIP', 'WEALTH_LEVEL',\n",
       "       'DIGI_FLG', 'TOPCARD', 'GENDER', 'stick_level2', 'cust_group2'],\n",
       "      dtype='object')"
      ]
     },
     "execution_count": 10,
     "metadata": {},
     "output_type": "execute_result"
    }
   ],
   "source": [
    "X.columns"
   ]
  },
  {
   "cell_type": "code",
   "execution_count": 11,
   "metadata": {},
   "outputs": [],
   "source": [
    "X['VIP_CLASS'] = X['VIP_CLASS'].fillna('0')"
   ]
  },
  {
   "cell_type": "code",
   "execution_count": 12,
   "metadata": {},
   "outputs": [],
   "source": [
    "X.reset_index(drop=True, inplace=True)"
   ]
  },
  {
   "cell_type": "code",
   "execution_count": 21,
   "metadata": {},
   "outputs": [
    {
     "data": {
      "text/html": [
       "<div>\n",
       "<style scoped>\n",
       "    .dataframe tbody tr th:only-of-type {\n",
       "        vertical-align: middle;\n",
       "    }\n",
       "\n",
       "    .dataframe tbody tr th {\n",
       "        vertical-align: top;\n",
       "    }\n",
       "\n",
       "    .dataframe thead th {\n",
       "        text-align: right;\n",
       "    }\n",
       "</style>\n",
       "<table border=\"1\" class=\"dataframe\">\n",
       "  <thead>\n",
       "    <tr style=\"text-align: right;\">\n",
       "      <th></th>\n",
       "      <th>BundleSubtype2</th>\n",
       "      <th>illness_desc</th>\n",
       "      <th>DiagnosisCode_DESC</th>\n",
       "      <th>REIMBURSED_YR_TW</th>\n",
       "      <th>ternure_m</th>\n",
       "      <th>recency_m</th>\n",
       "      <th>SIN</th>\n",
       "      <th>SIN_his</th>\n",
       "      <th>REG</th>\n",
       "      <th>REG_his</th>\n",
       "      <th>...</th>\n",
       "      <th>AHd</th>\n",
       "      <th>AHd_his</th>\n",
       "      <th>VIP_CLASS</th>\n",
       "      <th>VIP</th>\n",
       "      <th>WEALTH_LEVEL</th>\n",
       "      <th>DIGI_FLG</th>\n",
       "      <th>TOPCARD</th>\n",
       "      <th>GENDER</th>\n",
       "      <th>stick_level2</th>\n",
       "      <th>cust_group2</th>\n",
       "    </tr>\n",
       "  </thead>\n",
       "  <tbody>\n",
       "    <tr>\n",
       "      <th>220967</th>\n",
       "      <td>6.N意外醫療</td>\n",
       "      <td>摩拖車騎士與汽車，小貨車或箱型車碰撞受傷</td>\n",
       "      <td>20.疾病和死亡的外因</td>\n",
       "      <td>4389.00</td>\n",
       "      <td>321</td>\n",
       "      <td>201</td>\n",
       "      <td>0</td>\n",
       "      <td>0</td>\n",
       "      <td>1</td>\n",
       "      <td>1</td>\n",
       "      <td>...</td>\n",
       "      <td>0</td>\n",
       "      <td>0</td>\n",
       "      <td>0</td>\n",
       "      <td>0</td>\n",
       "      <td>W6</td>\n",
       "      <td>1</td>\n",
       "      <td>0</td>\n",
       "      <td>1</td>\n",
       "      <td>S09</td>\n",
       "      <td>G4</td>\n",
       "    </tr>\n",
       "    <tr>\n",
       "      <th>220968</th>\n",
       "      <td>6.N意外醫療</td>\n",
       "      <td>摩拖車騎士與汽車，小貨車或箱型車碰撞受傷</td>\n",
       "      <td>20.疾病和死亡的外因</td>\n",
       "      <td>31133.55</td>\n",
       "      <td>263</td>\n",
       "      <td>240</td>\n",
       "      <td>0</td>\n",
       "      <td>0</td>\n",
       "      <td>0</td>\n",
       "      <td>0</td>\n",
       "      <td>...</td>\n",
       "      <td>0</td>\n",
       "      <td>0</td>\n",
       "      <td>0</td>\n",
       "      <td>0</td>\n",
       "      <td>W6</td>\n",
       "      <td>0</td>\n",
       "      <td>0</td>\n",
       "      <td>1</td>\n",
       "      <td>S09</td>\n",
       "      <td>G4</td>\n",
       "    </tr>\n",
       "    <tr>\n",
       "      <th>220969</th>\n",
       "      <td>6.N意外醫療</td>\n",
       "      <td>涉及其他特定運動和競技之活動</td>\n",
       "      <td>20.疾病和死亡的外因</td>\n",
       "      <td>1470.00</td>\n",
       "      <td>285</td>\n",
       "      <td>13</td>\n",
       "      <td>0</td>\n",
       "      <td>0</td>\n",
       "      <td>1</td>\n",
       "      <td>1</td>\n",
       "      <td>...</td>\n",
       "      <td>0</td>\n",
       "      <td>0</td>\n",
       "      <td>0</td>\n",
       "      <td>0</td>\n",
       "      <td>W5</td>\n",
       "      <td>0</td>\n",
       "      <td>0</td>\n",
       "      <td>1</td>\n",
       "      <td>S03</td>\n",
       "      <td>G2</td>\n",
       "    </tr>\n",
       "    <tr>\n",
       "      <th>220970</th>\n",
       "      <td>5.N疾病醫療</td>\n",
       "      <td>其他及未明示部位之原位癌</td>\n",
       "      <td>02.腫瘤</td>\n",
       "      <td>17002.65</td>\n",
       "      <td>317</td>\n",
       "      <td>282</td>\n",
       "      <td>0</td>\n",
       "      <td>0</td>\n",
       "      <td>1</td>\n",
       "      <td>1</td>\n",
       "      <td>...</td>\n",
       "      <td>0</td>\n",
       "      <td>0</td>\n",
       "      <td>0</td>\n",
       "      <td>0</td>\n",
       "      <td>W6</td>\n",
       "      <td>0</td>\n",
       "      <td>0</td>\n",
       "      <td>0</td>\n",
       "      <td>S10</td>\n",
       "      <td>G4</td>\n",
       "    </tr>\n",
       "    <tr>\n",
       "      <th>220971</th>\n",
       "      <td>4.C重大疾病</td>\n",
       "      <td>自體的冠狀動脈粥樣硬化心臟病</td>\n",
       "      <td>09.循環系統疾病</td>\n",
       "      <td>16825.20</td>\n",
       "      <td>297</td>\n",
       "      <td>68</td>\n",
       "      <td>0</td>\n",
       "      <td>0</td>\n",
       "      <td>1</td>\n",
       "      <td>1</td>\n",
       "      <td>...</td>\n",
       "      <td>0</td>\n",
       "      <td>0</td>\n",
       "      <td>0</td>\n",
       "      <td>0</td>\n",
       "      <td>W6</td>\n",
       "      <td>0</td>\n",
       "      <td>0</td>\n",
       "      <td>1</td>\n",
       "      <td>S07</td>\n",
       "      <td>G4</td>\n",
       "    </tr>\n",
       "  </tbody>\n",
       "</table>\n",
       "<p>5 rows × 28 columns</p>\n",
       "</div>"
      ],
      "text/plain": [
       "       BundleSubtype2          illness_desc DiagnosisCode_DESC  \\\n",
       "220967        6.N意外醫療  摩拖車騎士與汽車，小貨車或箱型車碰撞受傷        20.疾病和死亡的外因   \n",
       "220968        6.N意外醫療  摩拖車騎士與汽車，小貨車或箱型車碰撞受傷        20.疾病和死亡的外因   \n",
       "220969        6.N意外醫療        涉及其他特定運動和競技之活動        20.疾病和死亡的外因   \n",
       "220970        5.N疾病醫療          其他及未明示部位之原位癌              02.腫瘤   \n",
       "220971        4.C重大疾病        自體的冠狀動脈粥樣硬化心臟病          09.循環系統疾病   \n",
       "\n",
       "        REIMBURSED_YR_TW  ternure_m  recency_m  SIN  SIN_his  REG  REG_his  \\\n",
       "220967           4389.00        321        201    0        0    1        1   \n",
       "220968          31133.55        263        240    0        0    0        0   \n",
       "220969           1470.00        285         13    0        0    1        1   \n",
       "220970          17002.65        317        282    0        0    1        1   \n",
       "220971          16825.20        297         68    0        0    1        1   \n",
       "\n",
       "        ...  AHd  AHd_his  VIP_CLASS  VIP  WEALTH_LEVEL  DIGI_FLG  TOPCARD  \\\n",
       "220967  ...    0        0          0    0            W6         1        0   \n",
       "220968  ...    0        0          0    0            W6         0        0   \n",
       "220969  ...    0        0          0    0            W5         0        0   \n",
       "220970  ...    0        0          0    0            W6         0        0   \n",
       "220971  ...    0        0          0    0            W6         0        0   \n",
       "\n",
       "        GENDER  stick_level2  cust_group2  \n",
       "220967       1           S09           G4  \n",
       "220968       1           S09           G4  \n",
       "220969       1           S03           G2  \n",
       "220970       0           S10           G4  \n",
       "220971       1           S07           G4  \n",
       "\n",
       "[5 rows x 28 columns]"
      ]
     },
     "execution_count": 21,
     "metadata": {},
     "output_type": "execute_result"
    }
   ],
   "source": [
    "X.tail()"
   ]
  },
  {
   "cell_type": "code",
   "execution_count": 22,
   "metadata": {},
   "outputs": [
    {
     "data": {
      "text/plain": [
       "Index(['BundleSubtype2', 'illness_desc', 'DiagnosisCode_DESC',\n",
       "       'REIMBURSED_YR_TW', 'ternure_m', 'recency_m', 'SIN', 'SIN_his', 'REG',\n",
       "       'REG_his', 'ILP', 'ILP_his', 'AHa', 'AHa_his', 'AHb', 'AHb_his', 'AHc',\n",
       "       'AHc_his', 'AHd', 'AHd_his', 'VIP_CLASS', 'VIP', 'WEALTH_LEVEL',\n",
       "       'DIGI_FLG', 'TOPCARD', 'GENDER', 'stick_level2', 'cust_group2'],\n",
       "      dtype='object')"
      ]
     },
     "execution_count": 22,
     "metadata": {},
     "output_type": "execute_result"
    }
   ],
   "source": [
    "X.columns"
   ]
  },
  {
   "cell_type": "markdown",
   "metadata": {},
   "source": [
    "## **處理資料不平衡**\n",
    "[不平衡資料的二元分類 2：利用抽樣改善模型品質](https://taweihuang.hpd.io/2018/12/30/imbalanced-data-sampling-techniques/) <br>\n",
    "[Oversampling: SMOTE for binary and categorical data in Python](https://stackoverflow.com/questions/47655813/oversampling-smote-for-binary-and-categorical-data-in-python)"
   ]
  },
  {
   "cell_type": "code",
   "execution_count": 31,
   "metadata": {},
   "outputs": [],
   "source": [
    "cate = [0,1,2,6,7,8,9,10,11,12,13,14,15,16,17,18,19,20,21,22,23,24,25,26,27] # 這些是類別資料，使用smotenc前要先標出來\n",
    "sm = SMOTENC(categorical_features = cate, random_state=0)\n",
    "X_res, y_res = sm.fit_resample(X, y)\n",
    "df1 = X_res\n",
    "df1['y'] = y_res"
   ]
  },
  {
   "cell_type": "markdown",
   "metadata": {},
   "source": [
    "## **encoding**"
   ]
  },
  {
   "cell_type": "code",
   "execution_count": 32,
   "metadata": {},
   "outputs": [],
   "source": [
    "## 要先分訓練跟測試，才能target encoding\n",
    "X_train, X_test, y_train, y_test = train_test_split(X_res, y_res, test_size=0.33, random_state=42)\n",
    "to_encoding = ['BundleSubtype2', 'illness_desc', 'DiagnosisCode_DESC','VIP_CLASS','WEALTH_LEVEL','stick_level2', 'cust_group2']\n",
    "enc = TargetEncoder(cols=to_encoding)\n",
    "training_numeric_dataset = enc.fit_transform(X_train, y_train)\n",
    "testing_numeric_dataset = enc.transform(X_test)"
   ]
  },
  {
   "cell_type": "code",
   "execution_count": 36,
   "metadata": {},
   "outputs": [
    {
     "data": {
      "text/plain": [
       "(280896, 29)"
      ]
     },
     "execution_count": 36,
     "metadata": {},
     "output_type": "execute_result"
    }
   ],
   "source": [
    "training_numeric_dataset.shape"
   ]
  },
  {
   "cell_type": "markdown",
   "metadata": {},
   "source": [
    "## **儲存最後training, testing data**"
   ]
  },
  {
   "cell_type": "code",
   "execution_count": 34,
   "metadata": {},
   "outputs": [],
   "source": [
    "training_numeric_dataset.to_excel('training_data_baseline.xlsx')\n",
    "testing_numeric_dataset.to_excel('testing_data_baseline.xlsx')"
   ]
  }
 ],
 "metadata": {
  "kernelspec": {
   "display_name": "Python 3",
   "language": "python",
   "name": "python3"
  },
  "language_info": {
   "codemirror_mode": {
    "name": "ipython",
    "version": 3
   },
   "file_extension": ".py",
   "mimetype": "text/x-python",
   "name": "python",
   "nbconvert_exporter": "python",
   "pygments_lexer": "ipython3",
   "version": "3.7.6"
  }
 },
 "nbformat": 4,
 "nbformat_minor": 4
}

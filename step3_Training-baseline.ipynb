{
 "cells": [
  {
   "cell_type": "code",
   "execution_count": 1,
   "metadata": {},
   "outputs": [],
   "source": [
    "%matplotlib inline\n",
    "import pandas as pd\n",
    "from sklearn.model_selection import train_test_split\n",
    "import matplotlib.pyplot as plt\n",
    "import seaborn as sns\n",
    "import numpy as np\n",
    "sns.set()"
   ]
  },
  {
   "cell_type": "code",
   "execution_count": 2,
   "metadata": {},
   "outputs": [],
   "source": [
    "df1 = pd.read_excel('training_data_baseline.xlsx',index_col=0)\n",
    "df2 = pd.read_excel('testing_data_baseline.xlsx',index_col=0)\n",
    "X_train = df1.iloc[:,:-1]\n",
    "y_train = df1.iloc[:,-1]\n",
    "X_test = df2.iloc[:,:-1]\n",
    "y_test = df2.iloc[:,-1]"
   ]
  },
  {
   "cell_type": "markdown",
   "metadata": {},
   "source": [
    "## **決策樹**"
   ]
  },
  {
   "cell_type": "code",
   "execution_count": 27,
   "metadata": {},
   "outputs": [
    {
     "name": "stdout",
     "output_type": "stream",
     "text": [
      "Training data score: 0.8792115231259968\n",
      "Training data score: 0.8782598010870822\n"
     ]
    }
   ],
   "source": [
    "from sklearn.tree import DecisionTreeClassifier\n",
    "clf2 = DecisionTreeClassifier(criterion='gini',max_depth=10)\n",
    "clf2.fit(X_train,y_train)\n",
    "print('Training data score: {}'.format(clf2.score(X_train, y_train)))\n",
    "print('Training data score: {}'.format(clf2.score(X_test, y_test)))\n"
   ]
  },
  {
   "cell_type": "markdown",
   "metadata": {},
   "source": [
    "## **決策樹**\n",
    "* 不要求對資料標準化\n",
    "* sklearn中並不能容忍特徵職的缺失\n",
    "* 可以學習忽略與任務無關的特徵，決定那些特徵是有用的\n",
    "* 支援多輸出任務\n",
    "* 小型決策樹可以使用sklearn tree模組中的export_graphviz，輕鬆解釋和視覺化"
   ]
  },
  {
   "cell_type": "markdown",
   "metadata": {},
   "source": [
    "## **Testing**"
   ]
  },
  {
   "cell_type": "markdown",
   "metadata": {},
   "source": [
    "## **混淆矩陣解讀**\n",
    "https://www.libinx.com/2018/understanding-sklearn-classification-report/"
   ]
  },
  {
   "cell_type": "code",
   "execution_count": 28,
   "metadata": {},
   "outputs": [
    {
     "name": "stdout",
     "output_type": "stream",
     "text": [
      "              precision    recall  f1-score   support\n",
      "\n",
      "           0       0.85      0.91      0.88     69432\n",
      "           1       0.91      0.84      0.87     68920\n",
      "\n",
      "    accuracy                           0.88    138352\n",
      "   macro avg       0.88      0.88      0.88    138352\n",
      "weighted avg       0.88      0.88      0.88    138352\n",
      "\n"
     ]
    }
   ],
   "source": [
    "from sklearn.metrics import classification_report\n",
    "predictions = clf2.predict(X_test)\n",
    "print(classification_report(y_test, predictions))"
   ]
  },
  {
   "cell_type": "code",
   "execution_count": 30,
   "metadata": {},
   "outputs": [
    {
     "name": "stdout",
     "output_type": "stream",
     "text": [
      "Training data score: 0.8792115231259968\n",
      "Training data score: 0.8782598010870822\n"
     ]
    }
   ],
   "source": [
    "print('Training data score: {}'.format(clf2.score(X_train, y_train)))\n",
    "print('Training data score: {}'.format(clf2.score(X_test, y_test)))"
   ]
  },
  {
   "cell_type": "markdown",
   "metadata": {},
   "source": [
    "## Feature Importance"
   ]
  },
  {
   "cell_type": "code",
   "execution_count": 29,
   "metadata": {},
   "outputs": [
    {
     "name": "stdout",
     "output_type": "stream",
     "text": [
      "stick_level20.252 +/- 0.001\n",
      "recency_m0.231 +/- 0.001\n",
      "DiagnosisCode_DESC0.229 +/- 0.001\n",
      "illness_desc0.222 +/- 0.001\n",
      "cust_group20.220 +/- 0.001\n",
      "BundleSubtype20.161 +/- 0.001\n",
      "REIMBURSED_YR_TW0.094 +/- 0.001\n",
      "WEALTH_LEVEL0.058 +/- 0.001\n",
      "ternure_m0.056 +/- 0.001\n",
      "REG_his 0.026 +/- 0.000\n",
      "GENDER  0.024 +/- 0.000\n",
      "REG     0.022 +/- 0.000\n",
      "AHb_his 0.016 +/- 0.000\n",
      "SIN_his 0.015 +/- 0.000\n",
      "DIGI_FLG0.011 +/- 0.000\n",
      "ILP     0.011 +/- 0.000\n",
      "ILP_his 0.009 +/- 0.000\n",
      "AHb     0.009 +/- 0.000\n",
      "AHa     0.008 +/- 0.000\n",
      "AHd     0.008 +/- 0.000\n",
      "AHc     0.006 +/- 0.000\n",
      "SIN     0.004 +/- 0.000\n",
      "AHd_his 0.003 +/- 0.000\n",
      "VIP_CLASS0.003 +/- 0.000\n",
      "TOPCARD 0.001 +/- 0.000\n",
      "AHc_his 0.001 +/- 0.000\n",
      "AHa_his 0.000 +/- 0.000\n",
      "VIP     0.000 +/- 0.000\n"
     ]
    }
   ],
   "source": [
    "from sklearn.inspection import permutation_importance\n",
    "r = permutation_importance(clf2, X_test, y_test,\n",
    "                           n_repeats=30,\n",
    "                           random_state=0)\n",
    "\n",
    "for i in r.importances_mean.argsort()[::-1]:\n",
    "    if r.importances_mean[i] - 2 * r.importances_std[i] > 0:\n",
    "        print(f\"{X_test.columns[i]:<8}\"\n",
    "              f\"{r.importances_mean[i]:.3f}\"\n",
    "              f\" +/- {r.importances_std[i]:.3f}\")\n"
   ]
  },
  {
   "cell_type": "markdown",
   "metadata": {},
   "source": [
    "## **不同參數的詳細結果**"
   ]
  },
  {
   "cell_type": "markdown",
   "metadata": {},
   "source": [
    "## **視覺化**"
   ]
  },
  {
   "cell_type": "code",
   "execution_count": 32,
   "metadata": {},
   "outputs": [],
   "source": [
    "from sklearn import tree\n",
    "tree.export_graphviz(clf2,out_file=\"tree.dot\",feature_names=X_train.columns,class_names=['neg','pos'])"
   ]
  },
  {
   "cell_type": "code",
   "execution_count": 33,
   "metadata": {},
   "outputs": [],
   "source": [
    "import pydot\n",
    "(graph, ) = pydot.graph_from_dot_file('tree.dot')"
   ]
  },
  {
   "cell_type": "code",
   "execution_count": 34,
   "metadata": {},
   "outputs": [],
   "source": [
    "graph.write_png('tree.png')"
   ]
  }
 ],
 "metadata": {
  "kernelspec": {
   "display_name": "Python 3",
   "language": "python",
   "name": "python3"
  },
  "language_info": {
   "codemirror_mode": {
    "name": "ipython",
    "version": 3
   },
   "file_extension": ".py",
   "mimetype": "text/x-python",
   "name": "python",
   "nbconvert_exporter": "python",
   "pygments_lexer": "ipython3",
   "version": "3.7.6"
  }
 },
 "nbformat": 4,
 "nbformat_minor": 4
}

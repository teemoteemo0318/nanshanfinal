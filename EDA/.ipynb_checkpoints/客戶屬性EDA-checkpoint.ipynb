{
 "cells": [
  {
   "cell_type": "code",
   "execution_count": 89,
   "metadata": {},
   "outputs": [],
   "source": [
    "%matplotlib inline\n",
    "import pandas as pd\n",
    "import numpy as np\n",
    "import matplotlib.pyplot as plt\n",
    "import calendar\n",
    "import seaborn as sns\n",
    "plt.rcParams['font.family']= ['Microsoft JhengHei']"
   ]
  },
  {
   "cell_type": "code",
   "execution_count": 2,
   "metadata": {},
   "outputs": [],
   "source": [
    "df1 = pd.read_excel('CUST_PROPERTY_FIN_1.xlsx')"
   ]
  },
  {
   "cell_type": "code",
   "execution_count": 3,
   "metadata": {},
   "outputs": [],
   "source": [
    "df2 = pd.read_excel('CUST_PROPERTY_FIN_2.xlsx')"
   ]
  },
  {
   "cell_type": "code",
   "execution_count": 219,
   "metadata": {},
   "outputs": [],
   "source": [
    "df2.index = [65000+i for i in range(len(df2.index))]"
   ]
  },
  {
   "cell_type": "code",
   "execution_count": 220,
   "metadata": {},
   "outputs": [],
   "source": [
    "frames = [df1,df2]\n",
    "df = pd.concat(frames)"
   ]
  },
  {
   "cell_type": "code",
   "execution_count": 223,
   "metadata": {},
   "outputs": [
    {
     "data": {
      "text/html": [
       "<div>\n",
       "<style scoped>\n",
       "    .dataframe tbody tr th:only-of-type {\n",
       "        vertical-align: middle;\n",
       "    }\n",
       "\n",
       "    .dataframe tbody tr th {\n",
       "        vertical-align: top;\n",
       "    }\n",
       "\n",
       "    .dataframe thead th {\n",
       "        text-align: right;\n",
       "    }\n",
       "</style>\n",
       "<table border=\"1\" class=\"dataframe\">\n",
       "  <thead>\n",
       "    <tr style=\"text-align: right;\">\n",
       "      <th></th>\n",
       "      <th>CUST_RK</th>\n",
       "      <th>ternure_m</th>\n",
       "      <th>recency_m</th>\n",
       "      <th>SIN</th>\n",
       "      <th>SIN_his</th>\n",
       "      <th>REG</th>\n",
       "      <th>REG_his</th>\n",
       "      <th>ILP</th>\n",
       "      <th>ILP_his</th>\n",
       "      <th>AHa</th>\n",
       "      <th>...</th>\n",
       "      <th>WEALTH_LEVEL</th>\n",
       "      <th>CLIENT_MARITAL</th>\n",
       "      <th>CLIENT_INCOME</th>\n",
       "      <th>DIGI_FLG</th>\n",
       "      <th>TOPCARD</th>\n",
       "      <th>GENDER</th>\n",
       "      <th>stick_level2</th>\n",
       "      <th>cust_group2</th>\n",
       "      <th>TOTAL_AUM</th>\n",
       "      <th>INSURED_DOB</th>\n",
       "    </tr>\n",
       "  </thead>\n",
       "  <tbody>\n",
       "    <tr>\n",
       "      <th>130482</th>\n",
       "      <td>251944</td>\n",
       "      <td>271</td>\n",
       "      <td>4</td>\n",
       "      <td>1</td>\n",
       "      <td>1</td>\n",
       "      <td>1</td>\n",
       "      <td>1</td>\n",
       "      <td>0</td>\n",
       "      <td>0</td>\n",
       "      <td>1</td>\n",
       "      <td>...</td>\n",
       "      <td>W2</td>\n",
       "      <td>M</td>\n",
       "      <td>1900000</td>\n",
       "      <td>0</td>\n",
       "      <td>1</td>\n",
       "      <td>1</td>\n",
       "      <td>S04</td>\n",
       "      <td>G0</td>\n",
       "      <td>2885720.0</td>\n",
       "      <td>1966-10-06</td>\n",
       "    </tr>\n",
       "    <tr>\n",
       "      <th>130483</th>\n",
       "      <td>251945</td>\n",
       "      <td>255</td>\n",
       "      <td>54</td>\n",
       "      <td>0</td>\n",
       "      <td>0</td>\n",
       "      <td>1</td>\n",
       "      <td>1</td>\n",
       "      <td>0</td>\n",
       "      <td>0</td>\n",
       "      <td>1</td>\n",
       "      <td>...</td>\n",
       "      <td>W5</td>\n",
       "      <td>M</td>\n",
       "      <td>247000</td>\n",
       "      <td>0</td>\n",
       "      <td>0</td>\n",
       "      <td>1</td>\n",
       "      <td>S07</td>\n",
       "      <td>G4</td>\n",
       "      <td>300840.3</td>\n",
       "      <td>1966-01-09</td>\n",
       "    </tr>\n",
       "    <tr>\n",
       "      <th>130484</th>\n",
       "      <td>251947</td>\n",
       "      <td>135</td>\n",
       "      <td>102</td>\n",
       "      <td>0</td>\n",
       "      <td>0</td>\n",
       "      <td>1</td>\n",
       "      <td>1</td>\n",
       "      <td>0</td>\n",
       "      <td>0</td>\n",
       "      <td>1</td>\n",
       "      <td>...</td>\n",
       "      <td>W7</td>\n",
       "      <td>NaN</td>\n",
       "      <td>0</td>\n",
       "      <td>0</td>\n",
       "      <td>0</td>\n",
       "      <td>1</td>\n",
       "      <td>S09</td>\n",
       "      <td>G4</td>\n",
       "      <td>123291.0</td>\n",
       "      <td>1979-05-16</td>\n",
       "    </tr>\n",
       "    <tr>\n",
       "      <th>130485</th>\n",
       "      <td>251951</td>\n",
       "      <td>125</td>\n",
       "      <td>34</td>\n",
       "      <td>0</td>\n",
       "      <td>0</td>\n",
       "      <td>1</td>\n",
       "      <td>1</td>\n",
       "      <td>0</td>\n",
       "      <td>0</td>\n",
       "      <td>1</td>\n",
       "      <td>...</td>\n",
       "      <td>W5</td>\n",
       "      <td>M</td>\n",
       "      <td>665000</td>\n",
       "      <td>0</td>\n",
       "      <td>0</td>\n",
       "      <td>1</td>\n",
       "      <td>S07</td>\n",
       "      <td>G4</td>\n",
       "      <td>224832.7</td>\n",
       "      <td>1972-06-22</td>\n",
       "    </tr>\n",
       "    <tr>\n",
       "      <th>130486</th>\n",
       "      <td>251954</td>\n",
       "      <td>297</td>\n",
       "      <td>68</td>\n",
       "      <td>0</td>\n",
       "      <td>0</td>\n",
       "      <td>1</td>\n",
       "      <td>1</td>\n",
       "      <td>0</td>\n",
       "      <td>0</td>\n",
       "      <td>1</td>\n",
       "      <td>...</td>\n",
       "      <td>W6</td>\n",
       "      <td>M</td>\n",
       "      <td>760000</td>\n",
       "      <td>0</td>\n",
       "      <td>0</td>\n",
       "      <td>1</td>\n",
       "      <td>S07</td>\n",
       "      <td>G4</td>\n",
       "      <td>126247.4</td>\n",
       "      <td>1960-09-28</td>\n",
       "    </tr>\n",
       "  </tbody>\n",
       "</table>\n",
       "<p>5 rows × 29 columns</p>\n",
       "</div>"
      ],
      "text/plain": [
       "        CUST_RK  ternure_m  recency_m  SIN  SIN_his  REG  REG_his  ILP  \\\n",
       "130482   251944        271          4    1        1    1        1    0   \n",
       "130483   251945        255         54    0        0    1        1    0   \n",
       "130484   251947        135        102    0        0    1        1    0   \n",
       "130485   251951        125         34    0        0    1        1    0   \n",
       "130486   251954        297         68    0        0    1        1    0   \n",
       "\n",
       "        ILP_his  AHa  ...  WEALTH_LEVEL  CLIENT_MARITAL  CLIENT_INCOME  \\\n",
       "130482        0    1  ...            W2               M        1900000   \n",
       "130483        0    1  ...            W5               M         247000   \n",
       "130484        0    1  ...            W7             NaN              0   \n",
       "130485        0    1  ...            W5               M         665000   \n",
       "130486        0    1  ...            W6               M         760000   \n",
       "\n",
       "        DIGI_FLG  TOPCARD  GENDER  stick_level2 cust_group2  TOTAL_AUM  \\\n",
       "130482         0        1       1           S04          G0  2885720.0   \n",
       "130483         0        0       1           S07          G4   300840.3   \n",
       "130484         0        0       1           S09          G4   123291.0   \n",
       "130485         0        0       1           S07          G4   224832.7   \n",
       "130486         0        0       1           S07          G4   126247.4   \n",
       "\n",
       "       INSURED_DOB  \n",
       "130482  1966-10-06  \n",
       "130483  1966-01-09  \n",
       "130484  1979-05-16  \n",
       "130485  1972-06-22  \n",
       "130486  1960-09-28  \n",
       "\n",
       "[5 rows x 29 columns]"
      ]
     },
     "execution_count": 223,
     "metadata": {},
     "output_type": "execute_result"
    }
   ],
   "source": [
    "df.tail()"
   ]
  },
  {
   "cell_type": "markdown",
   "metadata": {},
   "source": [
    "# Missing Value"
   ]
  },
  {
   "cell_type": "code",
   "execution_count": 26,
   "metadata": {},
   "outputs": [
    {
     "data": {
      "text/plain": [
       "CUST_RK                0\n",
       "ternure_m              0\n",
       "recency_m              0\n",
       "SIN                    0\n",
       "SIN_his                0\n",
       "REG                    0\n",
       "REG_his                0\n",
       "ILP                    0\n",
       "ILP_his                0\n",
       "AHa                    0\n",
       "AHa_his                0\n",
       "AHb                    0\n",
       "AHb_his                0\n",
       "AHc                    0\n",
       "AHc_his                0\n",
       "AHd                    0\n",
       "AHd_his                0\n",
       "VIP_CLASS         127632\n",
       "VIP                    0\n",
       "WEALTH_LEVEL           0\n",
       "CLIENT_MARITAL     42221\n",
       "CLIENT_INCOME          0\n",
       "DIGI_FLG               0\n",
       "TOPCARD                0\n",
       "GENDER                 0\n",
       "stick_level2           0\n",
       "cust_group2            0\n",
       "TOTAL_AUM          11786\n",
       "INSURED_DOB            0\n",
       "dtype: int64"
      ]
     },
     "execution_count": 26,
     "metadata": {},
     "output_type": "execute_result"
    }
   ],
   "source": [
    "df.isnull().sum(axis = 0)"
   ]
  },
  {
   "cell_type": "code",
   "execution_count": 27,
   "metadata": {},
   "outputs": [
    {
     "data": {
      "text/plain": [
       "127687"
      ]
     },
     "execution_count": 27,
     "metadata": {},
     "output_type": "execute_result"
    }
   ],
   "source": [
    "# 有Missing value的列數(客戶數)\n",
    "sum([1 for i in df.isnull().sum(axis = 1) if i != 0])"
   ]
  },
  {
   "cell_type": "markdown",
   "metadata": {},
   "source": [
    "# 1 客戶RK"
   ]
  },
  {
   "cell_type": "code",
   "execution_count": 15,
   "metadata": {},
   "outputs": [
    {
     "data": {
      "text/plain": [
       "4094      1\n",
       "158823    1\n",
       "209996    1\n",
       "212045    1\n",
       "205902    1\n",
       "         ..\n",
       "240416    1\n",
       "244514    1\n",
       "236326    1\n",
       "234279    1\n",
       "2049      1\n",
       "Name: CUST_RK, Length: 130487, dtype: int64"
      ]
     },
     "execution_count": 15,
     "metadata": {},
     "output_type": "execute_result"
    }
   ],
   "source": [
    "df['CUST_RK'].value_counts(dropna=False)"
   ]
  },
  {
   "cell_type": "markdown",
   "metadata": {},
   "source": [
    "# 2 客戶戶齡 (月)"
   ]
  },
  {
   "cell_type": "code",
   "execution_count": 138,
   "metadata": {},
   "outputs": [
    {
     "data": {
      "text/plain": [
       "229    2463\n",
       "181    2000\n",
       "205    1760\n",
       "13     1330\n",
       "169    1170\n",
       "       ... \n",
       "452       1\n",
       "430       1\n",
       "486       1\n",
       "420       1\n",
       "450       1\n",
       "Name: ternure_m, Length: 454, dtype: int64"
      ]
     },
     "execution_count": 138,
     "metadata": {},
     "output_type": "execute_result"
    }
   ],
   "source": [
    "df['ternure_m'].value_counts(dropna=False)\n",
    "# 可以做個圖看戶齡分配"
   ]
  },
  {
   "cell_type": "code",
   "execution_count": 222,
   "metadata": {},
   "outputs": [
    {
     "data": {
      "text/plain": [
       "(array([1.7345e+04, 1.5848e+04, 1.6969e+04, 1.9921e+04, 3.1444e+04,\n",
       "        2.0831e+04, 7.2290e+03, 8.1900e+02, 6.9000e+01, 1.2000e+01]),\n",
       " array([  1. ,  52.2, 103.4, 154.6, 205.8, 257. , 308.2, 359.4, 410.6,\n",
       "        461.8, 513. ]),\n",
       " <a list of 10 Patch objects>)"
      ]
     },
     "execution_count": 222,
     "metadata": {},
     "output_type": "execute_result"
    },
    {
     "data": {
      "image/png": "[encoded data removed]",
      "text/plain": [
       "<Figure size 432x288 with 1 Axes>"
      ]
     },
     "metadata": {},
     "output_type": "display_data"
    }
   ],
   "source": [
    "sns.set()\n",
    "plt.hist(df['ternure_m'])"
   ]
  },
  {
   "cell_type": "code",
   "execution_count": 135,
   "metadata": {},
   "outputs": [
    {
     "data": {
      "text/plain": [
       "count    130487.000000\n",
       "mean        179.262432\n",
       "std          92.741422\n",
       "min           1.000000\n",
       "25%         102.000000\n",
       "50%         199.000000\n",
       "75%         250.000000\n",
       "max         513.000000\n",
       "Name: ternure_m, dtype: float64"
      ]
     },
     "execution_count": 135,
     "metadata": {},
     "output_type": "execute_result"
    },
    {
     "data": {
      "image/png": "[encoded data removed]",
      "text/plain": [
       "<Figure size 432x288 with 1 Axes>"
      ]
     },
     "metadata": {},
     "output_type": "display_data"
    }
   ],
   "source": [
    "plt.boxplot(df['ternure_m'])\n",
    "df['ternure_m'].describe()"
   ]
  },
  {
   "cell_type": "markdown",
   "metadata": {},
   "source": [
    "# 4 現在、過去持有保單"
   ]
  },
  {
   "cell_type": "code",
   "execution_count": 85,
   "metadata": {},
   "outputs": [],
   "source": [
    "policy1 = ['SIN', 'REG', 'ILP', 'AHa',\n",
    "          'AHb', 'AHc','AHd', ]\n",
    "policy1_num = []  \n",
    "for item in policy1:\n",
    "    policy1_num.append(df[item].value_counts().sort_index().values[1])\n",
    "\n",
    "policy2 = [ x+\"_his\" for x in policy1  ]\n",
    "policy2_num = []  \n",
    "for item in policy2:\n",
    "    policy2_num.append(df[item].value_counts().sort_index().values[1])"
   ]
  },
  {
   "cell_type": "code",
   "execution_count": 104,
   "metadata": {},
   "outputs": [
    {
     "data": {
      "image/png": "[encoded data removed]",
      "text/plain": [
       "<Figure size 864x288 with 1 Axes>"
      ]
     },
     "metadata": {},
     "output_type": "display_data"
    }
   ],
   "source": [
    "sns.set()\n",
    "\n",
    "plt.figure(figsize=(12,4))\n",
    "x = np.arange(len(policy1))\n",
    "width = 0.35\n",
    "plt.bar(x - width/2, policy1_num, width, label='現在持有')\n",
    "plt.bar(x + width/2, policy2_num, width, label='過去持有')\n",
    "plt.gca().set_xticklabels(policy)\n",
    "plt.rcParams['font.family']= ['Microsoft JhengHei']\n",
    "plt.legend()\n"
   ]
  },
  {
   "cell_type": "markdown",
   "metadata": {},
   "source": [
    "# 5 VIP等級"
   ]
  },
  {
   "cell_type": "code",
   "execution_count": 91,
   "metadata": {},
   "outputs": [
    {
     "data": {
      "text/plain": [
       "NaN    127632\n",
       "V05      1789\n",
       "V04       932\n",
       "V03        88\n",
       "V02        27\n",
       "V01        19\n",
       "Name: VIP_CLASS, dtype: int64"
      ]
     },
     "execution_count": 91,
     "metadata": {},
     "output_type": "execute_result"
    }
   ],
   "source": [
    "df['VIP_CLASS'].value_counts(dropna=False)"
   ]
  },
  {
   "cell_type": "code",
   "execution_count": 92,
   "metadata": {},
   "outputs": [
    {
     "data": {
      "text/plain": [
       "0    127632\n",
       "1      2855\n",
       "Name: VIP, dtype: int64"
      ]
     },
     "execution_count": 92,
     "metadata": {},
     "output_type": "execute_result"
    }
   ],
   "source": [
    "df['VIP'].value_counts(dropna=False)"
   ]
  },
  {
   "cell_type": "markdown",
   "metadata": {},
   "source": [
    "# 6 財富等級\n",
    "### W1最高-->W7最低"
   ]
  },
  {
   "cell_type": "code",
   "execution_count": 97,
   "metadata": {},
   "outputs": [],
   "source": [
    "wealth = df['WEALTH_LEVEL'].value_counts(dropna=False).sort_index()"
   ]
  },
  {
   "cell_type": "code",
   "execution_count": 179,
   "metadata": {},
   "outputs": [
    {
     "data": {
      "image/png": "[encoded data removed]",
      "text/plain": [
       "<Figure size 576x288 with 1 Axes>"
      ]
     },
     "metadata": {},
     "output_type": "display_data"
    }
   ],
   "source": [
    "sns.set()\n",
    "plt.figure(figsize=(8,4))\n",
    "width = 0.7\n",
    "plt.rcParams['font.family']= ['Microsoft JhengHei']\n",
    "plt.bar(wealth.index , wealth.values, width, label='人數')\n",
    "plt.legend()"
   ]
  },
  {
   "cell_type": "markdown",
   "metadata": {},
   "source": [
    "# 7 婚姻狀況"
   ]
  },
  {
   "cell_type": "code",
   "execution_count": 128,
   "metadata": {},
   "outputs": [
    {
     "data": {
      "text/plain": [
       "M      50244\n",
       "NaN    42221\n",
       "S      38022\n",
       "Name: CLIENT_MARITAL, dtype: int64"
      ]
     },
     "execution_count": 128,
     "metadata": {},
     "output_type": "execute_result"
    }
   ],
   "source": [
    "df['CLIENT_MARITAL'].value_counts(dropna=False)"
   ]
  },
  {
   "cell_type": "markdown",
   "metadata": {},
   "source": [
    "# 8 客戶年收入"
   ]
  },
  {
   "cell_type": "code",
   "execution_count": 130,
   "metadata": {},
   "outputs": [
    {
     "data": {
      "text/plain": [
       "0             36186\n",
       "9500              1\n",
       "19000             9\n",
       "28500             8\n",
       "33250             1\n",
       "              ...  \n",
       "95000000          2\n",
       "152000000         1\n",
       "180500000         1\n",
       "475000000         1\n",
       "5700000000        1\n",
       "Name: CLIENT_INCOME, Length: 267, dtype: int64"
      ]
     },
     "execution_count": 130,
     "metadata": {},
     "output_type": "execute_result"
    }
   ],
   "source": [
    "df['CLIENT_INCOME'].value_counts(dropna=False).sort_index()"
   ]
  },
  {
   "cell_type": "code",
   "execution_count": 136,
   "metadata": {},
   "outputs": [
    {
     "data": {
      "text/plain": [
       "count    1.304870e+05\n",
       "mean     7.574329e+05\n",
       "std      1.589034e+07\n",
       "min      0.000000e+00\n",
       "25%      0.000000e+00\n",
       "50%      5.700000e+05\n",
       "75%      9.500000e+05\n",
       "max      5.700000e+09\n",
       "Name: CLIENT_INCOME, dtype: float64"
      ]
     },
     "execution_count": 136,
     "metadata": {},
     "output_type": "execute_result"
    },
    {
     "data": {
      "image/png": "[encoded data removed]",
      "text/plain": [
       "<Figure size 432x288 with 1 Axes>"
      ]
     },
     "metadata": {},
     "output_type": "display_data"
    }
   ],
   "source": [
    "plt.boxplot(df['CLIENT_INCOME'])\n",
    "df['CLIENT_INCOME'].describe()\n",
    "# 57億 ?\n",
    "# 0 是真的沒有收入還是沒資料 ?"
   ]
  },
  {
   "cell_type": "code",
   "execution_count": 202,
   "metadata": {},
   "outputs": [
    {
     "data": {
      "text/plain": [
       "(array([6.0870e+04, 4.9354e+04, 9.4550e+03, 5.5020e+03, 9.3100e+02,\n",
       "        2.2500e+03, 3.8000e+02, 5.1000e+01, 9.3800e+02, 1.0300e+02]),\n",
       " array([      0.,  570000., 1140000., 1710000., 2280000., 2850000.,\n",
       "        3420000., 3990000., 4560000., 5130000., 5700000.]),\n",
       " <a list of 10 Patch objects>)"
      ]
     },
     "execution_count": 202,
     "metadata": {},
     "output_type": "execute_result"
    },
    {
     "data": {
      "image/png": "[encoded data removed]",
      "text/plain": [
       "<Figure size 432x288 with 1 Axes>"
      ]
     },
     "metadata": {},
     "output_type": "display_data"
    }
   ],
   "source": [
    "import copy\n",
    "tmp = copy.deepcopy(df['CLIENT_INCOME'])\n",
    "plt.hist(sorted(tmp)[:int(0.995*len(tmp))])\n",
    "# 去掉最後0.5%的年收入分配"
   ]
  },
  {
   "cell_type": "markdown",
   "metadata": {},
   "source": [
    "# 9 數位客戶\n",
    "### 1:數位客戶 0:非數位客戶"
   ]
  },
  {
   "cell_type": "code",
   "execution_count": 162,
   "metadata": {},
   "outputs": [
    {
     "data": {
      "text/plain": [
       "0    120091\n",
       "1     10396\n",
       "Name: DIGI_FLG, dtype: int64"
      ]
     },
     "execution_count": 162,
     "metadata": {},
     "output_type": "execute_result"
    }
   ],
   "source": [
    "df['DIGI_FLG'].value_counts(dropna=False)"
   ]
  },
  {
   "cell_type": "markdown",
   "metadata": {},
   "source": [
    "# 10 頂級卡"
   ]
  },
  {
   "cell_type": "code",
   "execution_count": 168,
   "metadata": {},
   "outputs": [
    {
     "data": {
      "text/plain": [
       "0    128761\n",
       "1      1726\n",
       "Name: TOPCARD, dtype: int64"
      ]
     },
     "execution_count": 168,
     "metadata": {},
     "output_type": "execute_result"
    }
   ],
   "source": [
    "df['TOPCARD'].value_counts(dropna=False)"
   ]
  },
  {
   "cell_type": "markdown",
   "metadata": {},
   "source": [
    "# 11 性別\n",
    "### 1:女 0:男"
   ]
  },
  {
   "cell_type": "code",
   "execution_count": 169,
   "metadata": {},
   "outputs": [
    {
     "data": {
      "text/plain": [
       "1    70831\n",
       "0    59656\n",
       "Name: GENDER, dtype: int64"
      ]
     },
     "execution_count": 169,
     "metadata": {},
     "output_type": "execute_result"
    }
   ],
   "source": [
    "df['GENDER'].value_counts(dropna=False)"
   ]
  },
  {
   "cell_type": "markdown",
   "metadata": {},
   "source": [
    "# 12 忠誠度\n",
    "S01最高-->S10最低"
   ]
  },
  {
   "cell_type": "code",
   "execution_count": 185,
   "metadata": {},
   "outputs": [
    {
     "data": {
      "text/plain": [
       "S01     1396\n",
       "S02     1761\n",
       "S03     2355\n",
       "S04     8700\n",
       "S05     8799\n",
       "S06    11298\n",
       "S07    17386\n",
       "S08    20320\n",
       "S09    26499\n",
       "S10    31973\n",
       "Name: stick_level2, dtype: int64"
      ]
     },
     "execution_count": 185,
     "metadata": {},
     "output_type": "execute_result"
    }
   ],
   "source": [
    "stick = df['stick_level2'].value_counts(dropna=False).sort_index()\n",
    "stick"
   ]
  },
  {
   "cell_type": "code",
   "execution_count": 181,
   "metadata": {},
   "outputs": [
    {
     "data": {
      "image/png": "[encoded data removed]",
      "text/plain": [
       "<Figure size 576x288 with 1 Axes>"
      ]
     },
     "metadata": {},
     "output_type": "display_data"
    }
   ],
   "source": [
    "sns.set()\n",
    "plt.figure(figsize=(8,4))\n",
    "width = 0.7\n",
    "plt.rcParams['font.family']= ['Microsoft JhengHei']\n",
    "plt.bar(stick.index, stick.values, width, label='人數')\n",
    "plt.legend()\n",
    "plt.xlabel('忠誠度')"
   ]
  },
  {
   "cell_type": "markdown",
   "metadata": {},
   "source": [
    "# 13 客戶分群\n",
    "### G0最高-->G4最低"
   ]
  },
  {
   "cell_type": "code",
   "execution_count": 183,
   "metadata": {},
   "outputs": [
    {
     "data": {
      "text/plain": [
       "G0     4745\n",
       "G1    12647\n",
       "G2    16917\n",
       "G3    17292\n",
       "G4    78886\n",
       "Name: cust_group2, dtype: int64"
      ]
     },
     "execution_count": 183,
     "metadata": {},
     "output_type": "execute_result"
    }
   ],
   "source": [
    "group = df['cust_group2'].value_counts(dropna=False).sort_index()\n",
    "group"
   ]
  },
  {
   "cell_type": "code",
   "execution_count": 184,
   "metadata": {},
   "outputs": [
    {
     "data": {
      "image/png": "[encoded data removed]",
      "text/plain": [
       "<Figure size 576x288 with 1 Axes>"
      ]
     },
     "metadata": {},
     "output_type": "display_data"
    }
   ],
   "source": [
    "plt.figure(figsize=(8,4))\n",
    "width = 0.7\n",
    "plt.rcParams['font.family']= ['Microsoft JhengHei']\n",
    "plt.bar(group.index, group.values, width, label='人數')\n",
    "plt.legend()\n",
    "plt.xlabel('忠誠度')\n",
    "sns.set()"
   ]
  },
  {
   "cell_type": "markdown",
   "metadata": {},
   "source": [
    "# 14 總資產"
   ]
  },
  {
   "cell_type": "code",
   "execution_count": 190,
   "metadata": {},
   "outputs": [
    {
     "data": {
      "text/plain": [
       "5.700000e+02        2\n",
       "6.070500e+02        1\n",
       "6.270000e+02        3\n",
       "6.355500e+02        2\n",
       "6.441000e+02        1\n",
       "                ...  \n",
       "8.381121e+07        1\n",
       "8.781562e+07        1\n",
       "2.126112e+08        1\n",
       "4.223700e+08        1\n",
       "NaN             11786\n",
       "Name: TOTAL_AUM, Length: 62882, dtype: int64"
      ]
     },
     "execution_count": 190,
     "metadata": {},
     "output_type": "execute_result"
    }
   ],
   "source": [
    "df['TOTAL_AUM'].value_counts(dropna=False).sort_index()"
   ]
  },
  {
   "cell_type": "code",
   "execution_count": 189,
   "metadata": {},
   "outputs": [
    {
     "data": {
      "text/plain": [
       "count    1.187010e+05\n",
       "mean     6.592805e+05\n",
       "std      2.175334e+06\n",
       "min      5.700000e+02\n",
       "25%      1.033695e+05\n",
       "50%      2.618770e+05\n",
       "75%      5.973980e+05\n",
       "max      4.223700e+08\n",
       "Name: TOTAL_AUM, dtype: float64"
      ]
     },
     "execution_count": 189,
     "metadata": {},
     "output_type": "execute_result"
    }
   ],
   "source": [
    "df['TOTAL_AUM'].describe()"
   ]
  },
  {
   "cell_type": "code",
   "execution_count": 214,
   "metadata": {},
   "outputs": [
    {
     "data": {
      "text/plain": [
       "(array([69524., 23087.,  9115.,  4785.,  2773.,  1936.,  1451.,  1016.,\n",
       "          835.,   617.]),\n",
       " array([5.700000e+02, 3.411070e+05, 6.816440e+05, 1.022181e+06,\n",
       "        1.362718e+06, 1.703255e+06, 2.043792e+06, 2.384329e+06,\n",
       "        2.724866e+06, 3.065403e+06, 3.405940e+06]),\n",
       " <a list of 10 Patch objects>)"
      ]
     },
     "execution_count": 214,
     "metadata": {},
     "output_type": "execute_result"
    },
    {
     "data": {
      "image/png": "[encoded data removed]",
      "text/plain": [
       "<Figure size 432x288 with 1 Axes>"
      ]
     },
     "metadata": {},
     "output_type": "display_data"
    }
   ],
   "source": [
    "import copy\n",
    "tmp2 = copy.deepcopy(df['TOTAL_AUM']).dropna()\n",
    "plt.hist(sorted(tmp2)[:int(0.97*len(tmp2))])\n",
    "# 去掉最後 3% 的總資產分配"
   ]
  },
  {
   "cell_type": "code",
   "execution_count": null,
   "metadata": {},
   "outputs": [],
   "source": []
  }
 ],
 "metadata": {
  "kernelspec": {
   "display_name": "Python 3",
   "language": "python",
   "name": "python3"
  },
  "language_info": {
   "codemirror_mode": {
    "name": "ipython",
    "version": 3
   },
   "file_extension": ".py",
   "mimetype": "text/x-python",
   "name": "python",
   "nbconvert_exporter": "python",
   "pygments_lexer": "ipython3",
   "version": "3.7.6"
  }
 },
 "nbformat": 4,
 "nbformat_minor": 4
}

{
 "cells": [
  {
   "cell_type": "code",
   "execution_count": 27,
   "metadata": {},
   "outputs": [],
   "source": [
    "%matplotlib inline\n",
    "import pandas as pd\n",
    "import matplotlib.pyplot as plt\n",
    "import calendar\n",
    "import seaborn as sns\n",
    "plt.rcParams['font.family']= ['Microsoft JhengHei']"
   ]
  },
  {
   "cell_type": "code",
   "execution_count": 3,
   "metadata": {},
   "outputs": [],
   "source": [
    "df = pd.read_excel(\"COV_ACCT_FIN.xlsx\")"
   ]
  },
  {
   "cell_type": "code",
   "execution_count": 53,
   "metadata": {},
   "outputs": [
    {
     "data": {
      "text/html": [
       "<div>\n",
       "<style scoped>\n",
       "    .dataframe tbody tr th:only-of-type {\n",
       "        vertical-align: middle;\n",
       "    }\n",
       "\n",
       "    .dataframe tbody tr th {\n",
       "        vertical-align: top;\n",
       "    }\n",
       "\n",
       "    .dataframe thead th {\n",
       "        text-align: right;\n",
       "    }\n",
       "</style>\n",
       "<table border=\"1\" class=\"dataframe\">\n",
       "  <thead>\n",
       "    <tr style=\"text-align: right;\">\n",
       "      <th></th>\n",
       "      <th>INSURED_RK</th>\n",
       "      <th>Policy_RK</th>\n",
       "      <th>RIDER_CD</th>\n",
       "      <th>payment_period</th>\n",
       "      <th>EFFECTIVE_DT</th>\n",
       "      <th>SHORT_NAME</th>\n",
       "      <th>prod_detail2</th>\n",
       "      <th>POLICY_HOLDER_RK</th>\n",
       "      <th>AFYP_NT</th>\n",
       "      <th>MATURITY_BENEFICIARY_RK</th>\n",
       "      <th>DEATH_BENEFICIARY_RK</th>\n",
       "      <th>month</th>\n",
       "    </tr>\n",
       "  </thead>\n",
       "  <tbody>\n",
       "    <tr>\n",
       "      <th>134467</th>\n",
       "      <td>251944</td>\n",
       "      <td>172739</td>\n",
       "      <td>1</td>\n",
       "      <td>躉繳保費</td>\n",
       "      <td>2017-09-01</td>\n",
       "      <td>UPISA</td>\n",
       "      <td>SIN</td>\n",
       "      <td>251944</td>\n",
       "      <td>1.067771e+06</td>\n",
       "      <td>NaN</td>\n",
       "      <td>NaN</td>\n",
       "      <td>9</td>\n",
       "    </tr>\n",
       "    <tr>\n",
       "      <th>134468</th>\n",
       "      <td>251944</td>\n",
       "      <td>177608</td>\n",
       "      <td>1</td>\n",
       "      <td>躉繳保費</td>\n",
       "      <td>2018-02-01</td>\n",
       "      <td>BUISA</td>\n",
       "      <td>SIN</td>\n",
       "      <td>251944</td>\n",
       "      <td>9.829964e+05</td>\n",
       "      <td>NaN</td>\n",
       "      <td>NaN</td>\n",
       "      <td>2</td>\n",
       "    </tr>\n",
       "    <tr>\n",
       "      <th>134469</th>\n",
       "      <td>251944</td>\n",
       "      <td>58859</td>\n",
       "      <td>1</td>\n",
       "      <td>年繳</td>\n",
       "      <td>2018-04-14</td>\n",
       "      <td>RLTC</td>\n",
       "      <td>AHd</td>\n",
       "      <td>79529</td>\n",
       "      <td>1.081773e+05</td>\n",
       "      <td>79529.0</td>\n",
       "      <td>NaN</td>\n",
       "      <td>4</td>\n",
       "    </tr>\n",
       "    <tr>\n",
       "      <th>134470</th>\n",
       "      <td>251944</td>\n",
       "      <td>172892</td>\n",
       "      <td>1</td>\n",
       "      <td>躉繳保費</td>\n",
       "      <td>2018-04-28</td>\n",
       "      <td>UPISA</td>\n",
       "      <td>SIN</td>\n",
       "      <td>251944</td>\n",
       "      <td>1.100128e+06</td>\n",
       "      <td>NaN</td>\n",
       "      <td>NaN</td>\n",
       "      <td>4</td>\n",
       "    </tr>\n",
       "    <tr>\n",
       "      <th>134471</th>\n",
       "      <td>251945</td>\n",
       "      <td>177625</td>\n",
       "      <td>1</td>\n",
       "      <td>躉繳保費</td>\n",
       "      <td>2018-08-31</td>\n",
       "      <td>BVA</td>\n",
       "      <td>ILP</td>\n",
       "      <td>251945</td>\n",
       "      <td>3.150000e+05</td>\n",
       "      <td>NaN</td>\n",
       "      <td>120128.0</td>\n",
       "      <td>8</td>\n",
       "    </tr>\n",
       "  </tbody>\n",
       "</table>\n",
       "</div>"
      ],
      "text/plain": [
       "        INSURED_RK  Policy_RK  RIDER_CD payment_period EFFECTIVE_DT  \\\n",
       "134467      251944     172739         1           躉繳保費   2017-09-01   \n",
       "134468      251944     177608         1           躉繳保費   2018-02-01   \n",
       "134469      251944      58859         1             年繳   2018-04-14   \n",
       "134470      251944     172892         1           躉繳保費   2018-04-28   \n",
       "134471      251945     177625         1           躉繳保費   2018-08-31   \n",
       "\n",
       "       SHORT_NAME prod_detail2  POLICY_HOLDER_RK       AFYP_NT  \\\n",
       "134467      UPISA          SIN            251944  1.067771e+06   \n",
       "134468      BUISA          SIN            251944  9.829964e+05   \n",
       "134469       RLTC          AHd             79529  1.081773e+05   \n",
       "134470      UPISA          SIN            251944  1.100128e+06   \n",
       "134471        BVA          ILP            251945  3.150000e+05   \n",
       "\n",
       "        MATURITY_BENEFICIARY_RK  DEATH_BENEFICIARY_RK  month  \n",
       "134467                      NaN                   NaN      9  \n",
       "134468                      NaN                   NaN      2  \n",
       "134469                  79529.0                   NaN      4  \n",
       "134470                      NaN                   NaN      4  \n",
       "134471                      NaN              120128.0      8  "
      ]
     },
     "execution_count": 53,
     "metadata": {},
     "output_type": "execute_result"
    }
   ],
   "source": [
    "df.tail()"
   ]
  },
  {
   "cell_type": "markdown",
   "metadata": {},
   "source": [
    "# Missing Value"
   ]
  },
  {
   "cell_type": "code",
   "execution_count": 55,
   "metadata": {},
   "outputs": [
    {
     "data": {
      "text/plain": [
       "INSURED_RK                     0\n",
       "Policy_RK                      0\n",
       "RIDER_CD                       0\n",
       "payment_period                 0\n",
       "EFFECTIVE_DT                   0\n",
       "SHORT_NAME                     0\n",
       "prod_detail2                   0\n",
       "POLICY_HOLDER_RK               0\n",
       "AFYP_NT                        0\n",
       "MATURITY_BENEFICIARY_RK    41498\n",
       "DEATH_BENEFICIARY_RK       30049\n",
       "month                          0\n",
       "dtype: int64"
      ]
     },
     "execution_count": 55,
     "metadata": {},
     "output_type": "execute_result"
    }
   ],
   "source": [
    "df.isnull().sum(axis = 0)"
   ]
  },
  {
   "cell_type": "code",
   "execution_count": 59,
   "metadata": {},
   "outputs": [
    {
     "data": {
      "text/plain": [
       "57723"
      ]
     },
     "execution_count": 59,
     "metadata": {},
     "output_type": "execute_result"
    }
   ],
   "source": [
    "# 有Missing value的列數(再購筆數)\n",
    "sum([1 for i in df.isnull().sum(axis = 1) if i != 0])"
   ]
  },
  {
   "cell_type": "markdown",
   "metadata": {},
   "source": [
    "# 2 保單號碼"
   ]
  },
  {
   "cell_type": "code",
   "execution_count": 46,
   "metadata": {},
   "outputs": [
    {
     "data": {
      "text/plain": [
       "73446     13\n",
       "37100     13\n",
       "26748     13\n",
       "107199    13\n",
       "182448    13\n",
       "          ..\n",
       "449        1\n",
       "2496       1\n",
       "180633     1\n",
       "182680     1\n",
       "2047       1\n",
       "Name: Policy_RK, Length: 74248, dtype: int64"
      ]
     },
     "execution_count": 46,
     "metadata": {},
     "output_type": "execute_result"
    }
   ],
   "source": [
    "df['Policy_RK'].value_counts(dropna=False)"
   ]
  },
  {
   "cell_type": "markdown",
   "metadata": {},
   "source": [
    "# 3 主附約註記"
   ]
  },
  {
   "cell_type": "code",
   "execution_count": 45,
   "metadata": {},
   "outputs": [
    {
     "data": {
      "text/plain": [
       "1    67804\n",
       "0    66668\n",
       "Name: RIDER_CD, dtype: int64"
      ]
     },
     "execution_count": 45,
     "metadata": {},
     "output_type": "execute_result"
    }
   ],
   "source": [
    "df['RIDER_CD'].value_counts(dropna=False)\n",
    "\n",
    "# 主約：1 附約：0"
   ]
  },
  {
   "cell_type": "markdown",
   "metadata": {},
   "source": [
    "# 4 保費繳法"
   ]
  },
  {
   "cell_type": "code",
   "execution_count": 42,
   "metadata": {},
   "outputs": [
    {
     "data": {
      "text/plain": [
       "年繳      104294\n",
       "躉繳保費     14522\n",
       "月繳       10506\n",
       "季繳        3138\n",
       "半年繳       2012\n",
       "Name: payment_period, dtype: int64"
      ]
     },
     "execution_count": 42,
     "metadata": {},
     "output_type": "execute_result"
    }
   ],
   "source": [
    "df['payment_period'].value_counts(dropna=False)"
   ]
  },
  {
   "cell_type": "markdown",
   "metadata": {},
   "source": [
    "# 5 保單生效日"
   ]
  },
  {
   "cell_type": "code",
   "execution_count": 28,
   "metadata": {},
   "outputs": [
    {
     "data": {
      "image/png": "[encoded data removed]",
      "text/plain": [
       "<Figure size 864x288 with 1 Axes>"
      ]
     },
     "metadata": {
      "needs_background": "light"
     },
     "output_type": "display_data"
    }
   ],
   "source": [
    "df['month'] = df['EFFECTIVE_DT'].apply(lambda x:x.month)\n",
    "y = df['month'].value_counts().sort_index()\n",
    "\n",
    "# 畫圖\n",
    "plt.figure(figsize=(12,4))\n",
    "plt.plot(y)\n",
    "plt.gca().xaxis.set(ticks=[i+1 for i in range(12)], ticklabels=calendar.month_abbr[1:13])\n",
    "plt.gca().xaxis.set_label_coords(1.05,0)\n",
    "plt.xlabel('月份')\n",
    "plt.gca().yaxis.set_label_coords(-0.1,1.02)\n",
    "plt.ylabel('再購案件數',rotation=0)\n",
    "sns.set()"
   ]
  },
  {
   "cell_type": "markdown",
   "metadata": {},
   "source": [
    "# 6 產品細項"
   ]
  },
  {
   "cell_type": "code",
   "execution_count": 41,
   "metadata": {},
   "outputs": [
    {
     "data": {
      "text/plain": [
       "PAR         10157\n",
       "NPBBR        7888\n",
       "AMN          7516\n",
       "DHI          7481\n",
       "MPL          5130\n",
       "            ...  \n",
       "3PUISL          1\n",
       "MS              1\n",
       "ECISA2RP        1\n",
       "3TISL           1\n",
       "GCISARP         1\n",
       "Name: SHORT_NAME, Length: 171, dtype: int64"
      ]
     },
     "execution_count": 41,
     "metadata": {},
     "output_type": "execute_result"
    }
   ],
   "source": [
    "df['SHORT_NAME'].value_counts(dropna=False)"
   ]
  },
  {
   "cell_type": "code",
   "execution_count": 40,
   "metadata": {},
   "outputs": [
    {
     "data": {
      "text/plain": [
       "count      171.000000\n",
       "mean       786.385965\n",
       "std       1580.680707\n",
       "min          1.000000\n",
       "25%         17.500000\n",
       "50%        125.000000\n",
       "75%        817.500000\n",
       "max      10157.000000\n",
       "Name: SHORT_NAME, dtype: float64"
      ]
     },
     "execution_count": 40,
     "metadata": {},
     "output_type": "execute_result"
    }
   ],
   "source": [
    "df['SHORT_NAME'].value_counts(dropna=False).describe()"
   ]
  },
  {
   "cell_type": "code",
   "execution_count": 38,
   "metadata": {},
   "outputs": [
    {
     "data": {
      "text/plain": [
       "93"
      ]
     },
     "execution_count": 38,
     "metadata": {},
     "output_type": "execute_result"
    }
   ],
   "source": [
    "sum(1 for x in df['SHORT_NAME'].value_counts(dropna=False) if x > 100)"
   ]
  },
  {
   "cell_type": "markdown",
   "metadata": {},
   "source": [
    "# 7 產品類型"
   ]
  },
  {
   "cell_type": "markdown",
   "metadata": {},
   "source": [
    "* REG=期繳商品\n",
    "* SIN=躉繳商品\n",
    "* ILP=投資型商品\n",
    "* AHa=住院手術商品\n",
    "* AHb=重疾癌症\n",
    "* AHc=意外保障\n",
    "* AHd=長期照顧"
   ]
  },
  {
   "cell_type": "code",
   "execution_count": 48,
   "metadata": {},
   "outputs": [
    {
     "data": {
      "text/plain": [
       "AHc    44106\n",
       "AHa    34747\n",
       "REG    21309\n",
       "AHb    12742\n",
       "SIN     8594\n",
       "AHd     6846\n",
       "ILP     6128\n",
       "Name: prod_detail2, dtype: int64"
      ]
     },
     "execution_count": 48,
     "metadata": {},
     "output_type": "execute_result"
    }
   ],
   "source": [
    "df['prod_detail2'].value_counts(dropna=False)"
   ]
  },
  {
   "cell_type": "markdown",
   "metadata": {},
   "source": [
    "# 8 要保人RK"
   ]
  },
  {
   "cell_type": "code",
   "execution_count": 49,
   "metadata": {},
   "outputs": [
    {
     "data": {
      "text/plain": [
       "23        46\n",
       "38443     45\n",
       "126483    42\n",
       "249596    41\n",
       "5832      41\n",
       "          ..\n",
       "249405     1\n",
       "3653       1\n",
       "38486      1\n",
       "91752      1\n",
       "39763      1\n",
       "Name: POLICY_HOLDER_RK, Length: 39559, dtype: int64"
      ]
     },
     "execution_count": 49,
     "metadata": {},
     "output_type": "execute_result"
    }
   ],
   "source": [
    "df['POLICY_HOLDER_RK'].value_counts(dropna=False)"
   ]
  },
  {
   "cell_type": "markdown",
   "metadata": {},
   "source": [
    "# 9 保單保費"
   ]
  },
  {
   "cell_type": "code",
   "execution_count": 50,
   "metadata": {},
   "outputs": [
    {
     "data": {
      "text/plain": [
       "850.50000       4669\n",
       "3675.00000      3473\n",
       "567.00000       2498\n",
       "2100.00000      1873\n",
       "323566.95000    1786\n",
       "                ... \n",
       "46613.70000        1\n",
       "28482.30000        1\n",
       "20921.25000        1\n",
       "81797.72496        1\n",
       "12835.20000        1\n",
       "Name: AFYP_NT, Length: 16173, dtype: int64"
      ]
     },
     "execution_count": 50,
     "metadata": {},
     "output_type": "execute_result"
    }
   ],
   "source": [
    "df['AFYP_NT'].value_counts(dropna=False)"
   ]
  },
  {
   "cell_type": "markdown",
   "metadata": {},
   "source": [
    "# 10 滿期金受益人RK"
   ]
  },
  {
   "cell_type": "code",
   "execution_count": 51,
   "metadata": {},
   "outputs": [
    {
     "data": {
      "text/plain": [
       "NaN         41498\n",
       "38443.0        43\n",
       "39471.0        40\n",
       "5832.0         38\n",
       "196426.0       36\n",
       "            ...  \n",
       "231673.0        1\n",
       "166138.0        1\n",
       "36422.0         1\n",
       "166140.0        1\n",
       "81661.0         1\n",
       "Name: MATURITY_BENEFICIARY_RK, Length: 29600, dtype: int64"
      ]
     },
     "execution_count": 51,
     "metadata": {},
     "output_type": "execute_result"
    }
   ],
   "source": [
    "df['MATURITY_BENEFICIARY_RK'].value_counts(dropna=False)"
   ]
  },
  {
   "cell_type": "markdown",
   "metadata": {},
   "source": [
    "# 11 生故保險金受益人RK"
   ]
  },
  {
   "cell_type": "code",
   "execution_count": 52,
   "metadata": {},
   "outputs": [
    {
     "data": {
      "text/plain": [
       "NaN         30049\n",
       "199.0        1292\n",
       "251961.0       60\n",
       "38443.0        44\n",
       "120020.0       41\n",
       "            ...  \n",
       "156463.0        1\n",
       "247212.0        1\n",
       "156459.0        1\n",
       "115411.0        1\n",
       "196607.0        1\n",
       "Name: DEATH_BENEFICIARY_RK, Length: 30505, dtype: int64"
      ]
     },
     "execution_count": 52,
     "metadata": {},
     "output_type": "execute_result"
    }
   ],
   "source": [
    "df['DEATH_BENEFICIARY_RK'].value_counts(dropna=False)"
   ]
  },
  {
   "cell_type": "code",
   "execution_count": null,
   "metadata": {},
   "outputs": [],
   "source": [
    "# 滿期金、身故保險受益人跟產品類型、產品細項的關係 ?\n",
    "# 要不要做一欄一年繳多少保費 ?\n",
    "# 產品類型跟產品細項的關係 ?\n",
    "# 再購可能是原有一張保單，再購那張保單的附約 ?"
   ]
  }
 ],
 "metadata": {
  "kernelspec": {
   "display_name": "Python 3",
   "language": "python",
   "name": "python3"
  },
  "language_info": {
   "codemirror_mode": {
    "name": "ipython",
    "version": 3
   },
   "file_extension": ".py",
   "mimetype": "text/x-python",
   "name": "python",
   "nbconvert_exporter": "python",
   "pygments_lexer": "ipython3",
   "version": "3.7.6"
  }
 },
 "nbformat": 4,
 "nbformat_minor": 4
}

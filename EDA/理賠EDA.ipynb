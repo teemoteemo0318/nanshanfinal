{
 "cells": [
  {
   "cell_type": "code",
   "execution_count": 1,
   "metadata": {},
   "outputs": [],
   "source": [
    "%matplotlib inline\n",
    "import pandas as pd\n",
    "import numpy as np\n",
    "import matplotlib.pyplot as plt\n",
    "import calendar\n",
    "import seaborn as sns\n",
    "plt.rcParams['font.family']= ['Microsoft JhengHei']"
   ]
  },
  {
   "cell_type": "code",
   "execution_count": 5,
   "metadata": {},
   "outputs": [],
   "source": [
    "df1 = pd.read_excel(\"C:\\\\Users\\\\88698\\\\南山\\\\raw_data\\\\CLAIM_ACCT_FIN_1.xlsx\")\n",
    "df2 = pd.read_excel(\"C:\\\\Users\\\\88698\\\\南山\\\\raw_data\\\\CLAIM_ACCT_FIN_2.xlsx\")"
   ]
  },
  {
   "cell_type": "code",
   "execution_count": 6,
   "metadata": {},
   "outputs": [],
   "source": [
    "df2.index = [120000+i for i in range(len(df2))]\n",
    "frames = [df1,df2]\n",
    "df = pd.concat(frames)"
   ]
  },
  {
   "cell_type": "code",
   "execution_count": 7,
   "metadata": {},
   "outputs": [
    {
     "data": {
      "text/html": [
       "<div>\n",
       "<style scoped>\n",
       "    .dataframe tbody tr th:only-of-type {\n",
       "        vertical-align: middle;\n",
       "    }\n",
       "\n",
       "    .dataframe tbody tr th {\n",
       "        vertical-align: top;\n",
       "    }\n",
       "\n",
       "    .dataframe thead th {\n",
       "        text-align: right;\n",
       "    }\n",
       "</style>\n",
       "<table border=\"1\" class=\"dataframe\">\n",
       "  <thead>\n",
       "    <tr style=\"text-align: right;\">\n",
       "      <th></th>\n",
       "      <th>INJURED_RK</th>\n",
       "      <th>Claim_RK</th>\n",
       "      <th>Policy_RK</th>\n",
       "      <th>BundleSubtype2</th>\n",
       "      <th>illness_code</th>\n",
       "      <th>illness_desc</th>\n",
       "      <th>DiagnosisCode_DESC</th>\n",
       "      <th>claim_settle_dt</th>\n",
       "      <th>REIMBURSED_YR_TW</th>\n",
       "      <th>INSURED_RK</th>\n",
       "      <th>POLICY_HOLDER_RK</th>\n",
       "      <th>MATURITY_BENEFICIARY_RK</th>\n",
       "      <th>DEATH_BENEFICIARY_RK</th>\n",
       "    </tr>\n",
       "  </thead>\n",
       "  <tbody>\n",
       "    <tr>\n",
       "      <th>234423</th>\n",
       "      <td>249733</td>\n",
       "      <td>30121</td>\n",
       "      <td>166605</td>\n",
       "      <td>6.N意外醫療</td>\n",
       "      <td>Y99.8</td>\n",
       "      <td>其他外因狀態</td>\n",
       "      <td>99.不知道不想猜</td>\n",
       "      <td>2015-07-09</td>\n",
       "      <td>33600.0</td>\n",
       "      <td>249733</td>\n",
       "      <td>250207</td>\n",
       "      <td>NaN</td>\n",
       "      <td>250207.0</td>\n",
       "    </tr>\n",
       "    <tr>\n",
       "      <th>234424</th>\n",
       "      <td>249733</td>\n",
       "      <td>86463</td>\n",
       "      <td>166605</td>\n",
       "      <td>5.N疾病醫療</td>\n",
       "      <td>D33</td>\n",
       "      <td>大腦及中樞神經系統其他部位之良性腫瘤</td>\n",
       "      <td>02.腫瘤</td>\n",
       "      <td>2016-11-02</td>\n",
       "      <td>231.0</td>\n",
       "      <td>249733</td>\n",
       "      <td>250207</td>\n",
       "      <td>NaN</td>\n",
       "      <td>250207.0</td>\n",
       "    </tr>\n",
       "    <tr>\n",
       "      <th>234425</th>\n",
       "      <td>249733</td>\n",
       "      <td>109718</td>\n",
       "      <td>166605</td>\n",
       "      <td>6.N意外醫療</td>\n",
       "      <td>Z04.2</td>\n",
       "      <td>來院接受對工作意外後之檢查及觀察</td>\n",
       "      <td>21.影響健康狀態與保健機構接觸的</td>\n",
       "      <td>2017-02-11</td>\n",
       "      <td>1163.4</td>\n",
       "      <td>249733</td>\n",
       "      <td>250207</td>\n",
       "      <td>NaN</td>\n",
       "      <td>250207.0</td>\n",
       "    </tr>\n",
       "    <tr>\n",
       "      <th>234426</th>\n",
       "      <td>249733</td>\n",
       "      <td>204841</td>\n",
       "      <td>166605</td>\n",
       "      <td>6.N意外醫療</td>\n",
       "      <td>V23</td>\n",
       "      <td>摩拖車騎士與汽車，小貨車或箱型車碰撞受傷</td>\n",
       "      <td>20.疾病和死亡的外因</td>\n",
       "      <td>2017-10-29</td>\n",
       "      <td>12478.2</td>\n",
       "      <td>249733</td>\n",
       "      <td>250207</td>\n",
       "      <td>NaN</td>\n",
       "      <td>250207.0</td>\n",
       "    </tr>\n",
       "    <tr>\n",
       "      <th>234427</th>\n",
       "      <td>249795</td>\n",
       "      <td>189792</td>\n",
       "      <td>97319</td>\n",
       "      <td>5.N疾病醫療</td>\n",
       "      <td>K05</td>\n",
       "      <td>齒齦炎及牙周疾病</td>\n",
       "      <td>11.消化系統疾病</td>\n",
       "      <td>2017-09-20</td>\n",
       "      <td>3307.5</td>\n",
       "      <td>249795</td>\n",
       "      <td>249795</td>\n",
       "      <td>249795.0</td>\n",
       "      <td>NaN</td>\n",
       "    </tr>\n",
       "  </tbody>\n",
       "</table>\n",
       "</div>"
      ],
      "text/plain": [
       "        INJURED_RK  Claim_RK  Policy_RK BundleSubtype2 illness_code  \\\n",
       "234423      249733     30121     166605        6.N意外醫療        Y99.8   \n",
       "234424      249733     86463     166605        5.N疾病醫療          D33   \n",
       "234425      249733    109718     166605        6.N意外醫療        Z04.2   \n",
       "234426      249733    204841     166605        6.N意外醫療          V23   \n",
       "234427      249795    189792      97319        5.N疾病醫療          K05   \n",
       "\n",
       "                illness_desc DiagnosisCode_DESC claim_settle_dt  \\\n",
       "234423                其他外因狀態          99.不知道不想猜      2015-07-09   \n",
       "234424    大腦及中樞神經系統其他部位之良性腫瘤              02.腫瘤      2016-11-02   \n",
       "234425      來院接受對工作意外後之檢查及觀察  21.影響健康狀態與保健機構接觸的      2017-02-11   \n",
       "234426  摩拖車騎士與汽車，小貨車或箱型車碰撞受傷        20.疾病和死亡的外因      2017-10-29   \n",
       "234427              齒齦炎及牙周疾病          11.消化系統疾病      2017-09-20   \n",
       "\n",
       "        REIMBURSED_YR_TW  INSURED_RK  POLICY_HOLDER_RK  \\\n",
       "234423           33600.0      249733            250207   \n",
       "234424             231.0      249733            250207   \n",
       "234425            1163.4      249733            250207   \n",
       "234426           12478.2      249733            250207   \n",
       "234427            3307.5      249795            249795   \n",
       "\n",
       "        MATURITY_BENEFICIARY_RK  DEATH_BENEFICIARY_RK  \n",
       "234423                      NaN              250207.0  \n",
       "234424                      NaN              250207.0  \n",
       "234425                      NaN              250207.0  \n",
       "234426                      NaN              250207.0  \n",
       "234427                 249795.0                   NaN  "
      ]
     },
     "execution_count": 7,
     "metadata": {},
     "output_type": "execute_result"
    }
   ],
   "source": [
    "df.tail()"
   ]
  },
  {
   "cell_type": "markdown",
   "metadata": {},
   "source": [
    "# Missing Value"
   ]
  },
  {
   "cell_type": "code",
   "execution_count": 8,
   "metadata": {},
   "outputs": [
    {
     "data": {
      "text/plain": [
       "INJURED_RK                      0\n",
       "Claim_RK                        0\n",
       "Policy_RK                       0\n",
       "BundleSubtype2                  0\n",
       "illness_code                    0\n",
       "illness_desc                    0\n",
       "DiagnosisCode_DESC              0\n",
       "claim_settle_dt                 0\n",
       "REIMBURSED_YR_TW                0\n",
       "INSURED_RK                      0\n",
       "POLICY_HOLDER_RK                0\n",
       "MATURITY_BENEFICIARY_RK    162475\n",
       "DEATH_BENEFICIARY_RK       175195\n",
       "dtype: int64"
      ]
     },
     "execution_count": 8,
     "metadata": {},
     "output_type": "execute_result"
    }
   ],
   "source": [
    "df.isnull().sum(axis = 0)"
   ]
  },
  {
   "cell_type": "markdown",
   "metadata": {},
   "source": [
    "# 1 事故人RK"
   ]
  },
  {
   "cell_type": "code",
   "execution_count": 9,
   "metadata": {},
   "outputs": [
    {
     "data": {
      "text/plain": [
       "14        4\n",
       "24        1\n",
       "89        4\n",
       "129       1\n",
       "151       2\n",
       "         ..\n",
       "249645    1\n",
       "249666    1\n",
       "249694    1\n",
       "249733    4\n",
       "249795    1\n",
       "Name: INJURED_RK, Length: 100130, dtype: int64"
      ]
     },
     "execution_count": 9,
     "metadata": {},
     "output_type": "execute_result"
    }
   ],
   "source": [
    "df['INJURED_RK'].value_counts(dropna=False).sort_index()"
   ]
  },
  {
   "cell_type": "markdown",
   "metadata": {},
   "source": [
    "# 2 保單號碼"
   ]
  },
  {
   "cell_type": "code",
   "execution_count": 10,
   "metadata": {},
   "outputs": [
    {
     "data": {
      "text/plain": [
       "10071     63\n",
       "139934    59\n",
       "65919     57\n",
       "57094     55\n",
       "153570    55\n",
       "          ..\n",
       "105722     1\n",
       "103675     1\n",
       "109820     1\n",
       "113918     1\n",
       "4098       1\n",
       "Name: Policy_RK, Length: 113656, dtype: int64"
      ]
     },
     "execution_count": 10,
     "metadata": {},
     "output_type": "execute_result"
    }
   ],
   "source": [
    "df['Policy_RK'].value_counts(dropna=False)"
   ]
  },
  {
   "cell_type": "markdown",
   "metadata": {},
   "source": [
    "# 3 理賠案件型態"
   ]
  },
  {
   "cell_type": "code",
   "execution_count": 11,
   "metadata": {},
   "outputs": [
    {
     "data": {
      "text/plain": [
       "1.D身故給付      3841\n",
       "2.T完全失能       224\n",
       "3.P部份失能       160\n",
       "4.C重大疾病      6483\n",
       "5.N疾病醫療    132549\n",
       "6.N意外醫療     91171\n",
       "Name: BundleSubtype2, dtype: int64"
      ]
     },
     "execution_count": 11,
     "metadata": {},
     "output_type": "execute_result"
    }
   ],
   "source": [
    "subtype = df['BundleSubtype2'].value_counts(dropna=False).sort_index()\n",
    "subtype"
   ]
  },
  {
   "cell_type": "code",
   "execution_count": 12,
   "metadata": {},
   "outputs": [
    {
     "data": {
      "text/plain": [
       "<BarContainer object of 6 artists>"
      ]
     },
     "execution_count": 12,
     "metadata": {},
     "output_type": "execute_result"
    },
    {
     "data": {
      "image/png": "[encoded data removed]",
      "text/plain": [
       "<Figure size 576x288 with 1 Axes>"
      ]
     },
     "metadata": {},
     "output_type": "display_data"
    }
   ],
   "source": [
    "sns.set()\n",
    "plt.rcParams['font.family']= ['Microsoft JhengHei']\n",
    "plt.figure(figsize=(8,4))\n",
    "plt.bar(subtype.index, subtype.values)"
   ]
  },
  {
   "cell_type": "markdown",
   "metadata": {},
   "source": [
    "# 4 疾病"
   ]
  },
  {
   "cell_type": "code",
   "execution_count": 11,
   "metadata": {},
   "outputs": [
    {
     "data": {
      "text/plain": [
       "W18      26959\n",
       "Y99.8    22910\n",
       "V23      15598\n",
       "C50       9080\n",
       "Y93.7     8174\n",
       "         ...  \n",
       "S92.0        1\n",
       "S71          1\n",
       "H43          1\n",
       "Q39.1        1\n",
       "I51.7        1\n",
       "Name: illness_code, Length: 402, dtype: int64"
      ]
     },
     "execution_count": 11,
     "metadata": {},
     "output_type": "execute_result"
    }
   ],
   "source": [
    "df['illness_code'].value_counts(dropna=False)"
   ]
  },
  {
   "cell_type": "code",
   "execution_count": 12,
   "metadata": {},
   "outputs": [
    {
     "data": {
      "text/plain": [
       "其他滑倒、摔倒或絆倒和跌落           26959\n",
       "其他外因狀態                  22910\n",
       "摩拖車騎士與汽車，小貨車或箱型車碰撞受傷    15598\n",
       "乳房惡性腫瘤                   9080\n",
       "涉及其他特定運動和競技之活動           8174\n",
       "                        ...  \n",
       "腦下腺功能亢進                     1\n",
       "肩膀及上臂開放性傷口                  1\n",
       "玻璃體疾患                       1\n",
       "腓骨幹骨折                       1\n",
       "其他及未明示梅毒                    1\n",
       "Name: illness_desc, Length: 406, dtype: int64"
      ]
     },
     "execution_count": 12,
     "metadata": {},
     "output_type": "execute_result"
    }
   ],
   "source": [
    "tmp = df['illness_desc'].value_counts(dropna=False)\n",
    "tmp"
   ]
  },
  {
   "cell_type": "code",
   "execution_count": 13,
   "metadata": {},
   "outputs": [
    {
     "data": {
      "text/plain": [
       "182"
      ]
     },
     "execution_count": 13,
     "metadata": {},
     "output_type": "execute_result"
    }
   ],
   "source": [
    "sum([ 1 for i in tmp if i >= 100])"
   ]
  },
  {
   "cell_type": "code",
   "execution_count": 14,
   "metadata": {},
   "outputs": [],
   "source": [
    "# 太多類，要如何放入模型中 ?"
   ]
  },
  {
   "cell_type": "markdown",
   "metadata": {},
   "source": [
    "# 事故人 被保人 要保人重疊情形"
   ]
  },
  {
   "cell_type": "code",
   "execution_count": 15,
   "metadata": {},
   "outputs": [
    {
     "data": {
      "text/plain": [
       "167860"
      ]
     },
     "execution_count": 15,
     "metadata": {},
     "output_type": "execute_result"
    }
   ],
   "source": [
    "# 事故人=被保人=要保人 數量\n",
    "df[(df['INSURED_RK']==df['POLICY_HOLDER_RK']) & (df['INJURED_RK']==df['POLICY_HOLDER_RK'])]['Policy_RK'].count()"
   ]
  },
  {
   "cell_type": "code",
   "execution_count": 16,
   "metadata": {},
   "outputs": [
    {
     "data": {
      "text/plain": [
       "172115"
      ]
     },
     "execution_count": 16,
     "metadata": {},
     "output_type": "execute_result"
    }
   ],
   "source": [
    "# 被保人=要保人\n",
    "df[(df['INSURED_RK']==df['POLICY_HOLDER_RK'])]['Policy_RK'].count()"
   ]
  },
  {
   "cell_type": "code",
   "execution_count": 17,
   "metadata": {},
   "outputs": [
    {
     "data": {
      "text/plain": [
       "168112"
      ]
     },
     "execution_count": 17,
     "metadata": {},
     "output_type": "execute_result"
    }
   ],
   "source": [
    "# 事故人=要保人\n",
    "df[(df['INJURED_RK']==df['POLICY_HOLDER_RK'])]['Policy_RK'].count()"
   ]
  },
  {
   "cell_type": "code",
   "execution_count": 18,
   "metadata": {},
   "outputs": [
    {
     "data": {
      "text/plain": [
       "229636"
      ]
     },
     "execution_count": 18,
     "metadata": {},
     "output_type": "execute_result"
    }
   ],
   "source": [
    "# 事故人=被保人\n",
    "df[(df['INJURED_RK']==df['INSURED_RK'])]['Policy_RK'].count()"
   ]
  },
  {
   "cell_type": "markdown",
   "metadata": {},
   "source": [
    "# 時間"
   ]
  },
  {
   "cell_type": "code",
   "execution_count": 2,
   "metadata": {},
   "outputs": [
    {
     "ename": "NameError",
     "evalue": "name 'df' is not defined",
     "output_type": "error",
     "traceback": [
      "\u001b[1;31m---------------------------------------------------------------------------\u001b[0m",
      "\u001b[1;31mNameError\u001b[0m                                 Traceback (most recent call last)",
      "\u001b[1;32m<ipython-input-2-5e5a5334278e>\u001b[0m in \u001b[0;36m<module>\u001b[1;34m\u001b[0m\n\u001b[1;32m----> 1\u001b[1;33m \u001b[0mdf\u001b[0m\u001b[1;33m[\u001b[0m\u001b[1;34m'claim_settle_dt'\u001b[0m\u001b[1;33m]\u001b[0m\u001b[1;33m.\u001b[0m\u001b[0mmax\u001b[0m\u001b[1;33m(\u001b[0m\u001b[1;33m)\u001b[0m\u001b[1;33m\u001b[0m\u001b[1;33m\u001b[0m\u001b[0m\n\u001b[0m",
      "\u001b[1;31mNameError\u001b[0m: name 'df' is not defined"
     ]
    }
   ],
   "source": [
    "df['claim_settle_dt'].max()"
   ]
  },
  {
   "cell_type": "code",
   "execution_count": 1,
   "metadata": {},
   "outputs": [
    {
     "ename": "NameError",
     "evalue": "name 'df' is not defined",
     "output_type": "error",
     "traceback": [
      "\u001b[1;31m---------------------------------------------------------------------------\u001b[0m",
      "\u001b[1;31mNameError\u001b[0m                                 Traceback (most recent call last)",
      "\u001b[1;32m<ipython-input-1-eefbec1252e8>\u001b[0m in \u001b[0;36m<module>\u001b[1;34m\u001b[0m\n\u001b[1;32m----> 1\u001b[1;33m \u001b[0mdf\u001b[0m\u001b[1;33m[\u001b[0m\u001b[1;34m'claim_settle_dt'\u001b[0m\u001b[1;33m]\u001b[0m\u001b[1;33m.\u001b[0m\u001b[0mmin\u001b[0m\u001b[1;33m(\u001b[0m\u001b[1;33m)\u001b[0m\u001b[1;33m\u001b[0m\u001b[1;33m\u001b[0m\u001b[0m\n\u001b[0m",
      "\u001b[1;31mNameError\u001b[0m: name 'df' is not defined"
     ]
    }
   ],
   "source": [
    "df['claim_settle_dt'].min()"
   ]
  },
  {
   "cell_type": "code",
   "execution_count": null,
   "metadata": {},
   "outputs": [],
   "source": []
  }
 ],
 "metadata": {
  "kernelspec": {
   "display_name": "Python 3",
   "language": "python",
   "name": "python3"
  },
  "language_info": {
   "codemirror_mode": {
    "name": "ipython",
    "version": 3
   },
   "file_extension": ".py",
   "mimetype": "text/x-python",
   "name": "python",
   "nbconvert_exporter": "python",
   "pygments_lexer": "ipython3",
   "version": "3.7.6"
  }
 },
 "nbformat": 4,
 "nbformat_minor": 4
}
